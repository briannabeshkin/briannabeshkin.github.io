{
 "cells": [
  {
   "cell_type": "code",
   "execution_count": 64,
   "metadata": {},
   "outputs": [],
   "source": [
    "# import modules\n",
    "import pandas as pd\n",
    "import numpy as np\n",
    "from urllib.request import urlopen\n",
    "import os\n",
    "from bs4 import BeautifulSoup\n",
    "import re\n",
    "from pandas.io.json import json_normalize #special package in pandas\n",
    "import json\n",
    "import requests\n",
    "import datetime"
   ]
  },
  {
   "cell_type": "code",
   "execution_count": 17,
   "metadata": {},
   "outputs": [
    {
     "data": {
      "text/plain": [
       "datetime.datetime(2015, 6, 13, 0, 0)"
      ]
     },
     "execution_count": 17,
     "metadata": {},
     "output_type": "execute_result"
    }
   ],
   "source": [
    "#1\n",
    "mydate = \"June 13 2015\"\n",
    "#datetime.datetime.strftime(\"%B %d %Y\")\n",
    "datetime.datetime.strptime(mydate,\"%B %d %Y\")"
   ]
  },
  {
   "cell_type": "code",
   "execution_count": 7,
   "metadata": {},
   "outputs": [
    {
     "ename": "TypeError",
     "evalue": "expected string or bytes-like object",
     "output_type": "error",
     "traceback": [
      "\u001b[0;31m---------------------------------------------------------------------------\u001b[0m",
      "\u001b[0;31mTypeError\u001b[0m                                 Traceback (most recent call last)",
      "\u001b[0;32m<ipython-input-7-6628fbb33a94>\u001b[0m in \u001b[0;36m<module>\u001b[0;34m()\u001b[0m\n\u001b[1;32m      1\u001b[0m \u001b[0;31m#3\u001b[0m\u001b[0;34m\u001b[0m\u001b[0;34m\u001b[0m\u001b[0;34m\u001b[0m\u001b[0m\n\u001b[1;32m      2\u001b[0m \u001b[0mpost\u001b[0m \u001b[0;34m=\u001b[0m \u001b[0;34m[\u001b[0m\u001b[0;34m\"@natgeo\"\u001b[0m\u001b[0;34m,\u001b[0m \u001b[0;34m\"@cristiano\"\u001b[0m\u001b[0;34m,\u001b[0m \u001b[0;34m\"@arianagrande\"\u001b[0m\u001b[0;34m,\u001b[0m \u001b[0;34m\"@therock\"\u001b[0m\u001b[0;34m]\u001b[0m\u001b[0;34m\u001b[0m\u001b[0;34m\u001b[0m\u001b[0m\n\u001b[0;32m----> 3\u001b[0;31m \u001b[0mm\u001b[0m \u001b[0;34m=\u001b[0m \u001b[0mre\u001b[0m\u001b[0;34m.\u001b[0m\u001b[0mfindall\u001b[0m\u001b[0;34m(\u001b[0m\u001b[0;34m\"@\\w+\"\u001b[0m\u001b[0;34m,\u001b[0m\u001b[0mpost\u001b[0m\u001b[0;34m)\u001b[0m\u001b[0;34m\u001b[0m\u001b[0;34m\u001b[0m\u001b[0m\n\u001b[0m\u001b[1;32m      4\u001b[0m \u001b[0mm\u001b[0m\u001b[0;34m\u001b[0m\u001b[0;34m\u001b[0m\u001b[0m\n",
      "\u001b[0;32m~/anaconda3/lib/python3.7/re.py\u001b[0m in \u001b[0;36mfindall\u001b[0;34m(pattern, string, flags)\u001b[0m\n\u001b[1;32m    221\u001b[0m \u001b[0;34m\u001b[0m\u001b[0m\n\u001b[1;32m    222\u001b[0m     Empty matches are included in the result.\"\"\"\n\u001b[0;32m--> 223\u001b[0;31m     \u001b[0;32mreturn\u001b[0m \u001b[0m_compile\u001b[0m\u001b[0;34m(\u001b[0m\u001b[0mpattern\u001b[0m\u001b[0;34m,\u001b[0m \u001b[0mflags\u001b[0m\u001b[0;34m)\u001b[0m\u001b[0;34m.\u001b[0m\u001b[0mfindall\u001b[0m\u001b[0;34m(\u001b[0m\u001b[0mstring\u001b[0m\u001b[0;34m)\u001b[0m\u001b[0;34m\u001b[0m\u001b[0;34m\u001b[0m\u001b[0m\n\u001b[0m\u001b[1;32m    224\u001b[0m \u001b[0;34m\u001b[0m\u001b[0m\n\u001b[1;32m    225\u001b[0m \u001b[0;32mdef\u001b[0m \u001b[0mfinditer\u001b[0m\u001b[0;34m(\u001b[0m\u001b[0mpattern\u001b[0m\u001b[0;34m,\u001b[0m \u001b[0mstring\u001b[0m\u001b[0;34m,\u001b[0m \u001b[0mflags\u001b[0m\u001b[0;34m=\u001b[0m\u001b[0;36m0\u001b[0m\u001b[0;34m)\u001b[0m\u001b[0;34m:\u001b[0m\u001b[0;34m\u001b[0m\u001b[0;34m\u001b[0m\u001b[0m\n",
      "\u001b[0;31mTypeError\u001b[0m: expected string or bytes-like object"
     ]
    }
   ],
   "source": [
    "#3\n",
    "post = [\"@_natgeo\", \"@cristiano123\", \"@arianagrande\", \"@therock\"]\n",
    "#m = re.findall\"@[a-zA-Z]*\",post)\n",
    "#m = re.findall(\"@\\w+\",post)\n",
    "m = re.findall(\"@\\w*\",post)\n",
    "m"
   ]
  },
  {
   "cell_type": "code",
   "execution_count": 5,
   "metadata": {},
   "outputs": [
    {
     "data": {
      "text/plain": [
       "'1350'"
      ]
     },
     "execution_count": 5,
     "metadata": {},
     "output_type": "execute_result"
    }
   ],
   "source": [
    "#4\n",
    "from lxml import etree\n",
    "filename = open(\"london.txt\",\"r\")\n",
    "london = etree.parse(filename)\n",
    "areas = london.findall('area')\n",
    "a = areas[4].getchildren()[2].text\n",
    "#1350\n",
    "a"
   ]
  },
  {
   "cell_type": "code",
   "execution_count": 54,
   "metadata": {},
   "outputs": [
    {
     "data": {
      "text/plain": [
       "'http://www.google.com'"
      ]
     },
     "execution_count": 54,
     "metadata": {},
     "output_type": "execute_result"
    }
   ],
   "source": [
    "#5\n",
    "html = \"<a href='http://www.google.com'>Google</a>\"\n",
    "regex = \"<a href='(https?://.*?)'>(.*?)</a>\"\n",
    "m = re.search(regex, html)\n",
    "m.group(1)"
   ]
  },
  {
   "cell_type": "code",
   "execution_count": null,
   "metadata": {},
   "outputs": [],
   "source": [
    "#6\n",
    "#Y = year, mean = average \n",
    "# average number of customers per day per year"
   ]
  },
  {
   "cell_type": "code",
   "execution_count": 79,
   "metadata": {},
   "outputs": [
    {
     "data": {
      "text/plain": [
       "['EK-3333', 'PJ-3951', 'UX 9029', 'VB 6657']"
      ]
     },
     "execution_count": 79,
     "metadata": {},
     "output_type": "execute_result"
    }
   ],
   "source": [
    "#7\n",
    "license = \"EK-3333, PJ-3951, UX 9029, VB 6657\"\n",
    "a = re.findall(\"[a-zA-Z]{2}[- ]\\d{4}\",license)\n",
    "a"
   ]
  },
  {
   "cell_type": "code",
   "execution_count": 88,
   "metadata": {},
   "outputs": [],
   "source": [
    "#8\n",
    "form = \"23:47:00 07/21/99\"\n",
    "b = re.search(\"%H:%M:%S %m/%d/%y\", form)\n",
    "b"
   ]
  },
  {
   "cell_type": "code",
   "execution_count": 13,
   "metadata": {},
   "outputs": [
    {
     "data": {
      "text/plain": [
       "<http.client.HTTPResponse at 0x1195d6b00>"
      ]
     },
     "execution_count": 13,
     "metadata": {},
     "output_type": "execute_result"
    }
   ],
   "source": [
    "#12\n",
    "#https://api.stackexchange.com/2.2/\n",
    "urlopen(\"https://api.stackexchange.com/2.2/tags/jquery/info?site=stackoverflow\")"
   ]
  },
  {
   "cell_type": "code",
   "execution_count": 14,
   "metadata": {},
   "outputs": [
    {
     "data": {
      "text/plain": [
       "<http.client.HTTPResponse at 0x1195d6fd0>"
      ]
     },
     "execution_count": 14,
     "metadata": {},
     "output_type": "execute_result"
    }
   ],
   "source": [
    "#13\n",
    "urlopen(\"https://api.stackexchange.com/2.2/questions/unanswered?site=stackoverflow&fromdate=1583064000&todate=585742400\")"
   ]
  },
  {
   "cell_type": "code",
   "execution_count": 25,
   "metadata": {},
   "outputs": [
    {
     "data": {
      "text/plain": [
       "\n",
       "<html>\n",
       "<head><title>Reviews Google</title></head>\n",
       "<body>\n",
       "<h1 class=\"title\" id=\"page-title\">Coronavirus Data</h1>\n",
       "<div id=\"mydossier6\"> </div>\n",
       "<p><strong>April 13, 2020</strong></p>\n",
       "<ul>\n",
       "<li>Total Tested Overall: 11,284*</li>\n",
       "<li>Total Positives: 2,058</li>\n",
       "<li>Total Lives Lost: 67</li>\n",
       "<li>Total Recovered: 518</li>\n",
       "<li><a href=\"/sites/default/files/dc/sites/coronavirus/page_content/attachments/DC-COVID-19-Data-forApril-13-2020-updated.xlsx\">Download copy of DC COVID-19 data</a></li>\n",
       "</ul>\n",
       "<p><strong>April 12, 2020</strong></p>\n",
       "<ul>\n",
       "<li>Total Tested Overall: 10,934</li>\n",
       "<li>Total Positives: 1,955</li>\n",
       "<li>Total Lives Lost: 52</li>\n",
       "<li>Total Recovered: 507</li>\n",
       "<li><a href=\"/sites/default/files/dc/sites/coronavirus/page_content/attachments/DC-COVID-19-Data-forApril-12-2020.xlsx\">Download copy of DC COVID-19 data</a></li>\n",
       "</ul>\n",
       "<p><strong>April 11, 2020</strong></p>\n",
       "<ul>\n",
       "<li>Total Tested Overall: 10,640</li>\n",
       "<li>Total Positives: 1875</li>\n",
       "<li>Total Lives Lost: 50</li>\n",
       "<li>Total Recovered: 493</li>\n",
       "<li><a href=\"https://coronavirus.dc.gov/sites/default/files/u23/DC%20COVID-19%20Data%20for%20April%2011%202020.xlsx\">Download copy of DC COVID-19 data</a></li>\n",
       "</ul>\n",
       "<p><strong>April 10, 2020</strong></p>\n",
       "<ul>\n",
       "<li>Total Tested Overall: 10,039</li>\n",
       "<li>Total Positives: 1778</li>\n",
       "<li>Total Lives Lost: 47</li>\n",
       "<li>Total Recovered: 447</li>\n",
       "<li><a href=\"https://coronavirus.dc.gov/sites/default/files/dc/sites/coronavirus/page_content/attachments/DC-COVID-19-Data-forApril-10-2020.xlsx\">Download copy of DC COVID-19 data</a></li>\n",
       "</ul>\n",
       "<p><strong>April 9, 2020</strong></p>\n",
       "<ul>\n",
       "<li>Total Tested Overall: 9355</li>\n",
       "<li>Total Positives: 1660</li>\n",
       "<li>Total Lives Lost: 38</li>\n",
       "<li>Total Recovered: 426</li>\n",
       "<li><a href=\"/sites/default/files/dc/sites/coronavirus/page_content/attachments/DC-COVID-19-Data-forApril-9-2020.xlsx\">Download copy of DC COVID-19 data</a></li>\n",
       "</ul>\n",
       "<p><strong>April 8, 2020</strong></p>\n",
       "<ul>\n",
       "<li>Total Tested Overall: 8724</li>\n",
       "<li>Total Positives: 1523</li>\n",
       "<li>Total Lives Lost: 32</li>\n",
       "<li>Total Recovered: 393</li>\n",
       "<li><a href=\"/sites/default/files/dc/sites/coronavirus/page_content/attachments/DC-COVID-19-Data-forApril-8-2020.xlsx\">Download copy of DC COVID-19 data</a></li>\n",
       "</ul>\n",
       "<p><strong>April 7, 2020</strong></p>\n",
       "<ul>\n",
       "<li>Total Tested Overall: 8283</li>\n",
       "<li>Total Positives: 1440</li>\n",
       "<li>Total Lives Lost: 27</li>\n",
       "<li>Total Recovered: 361</li>\n",
       "<li><a href=\"/sites/default/files/dc/sites/coronavirus/page_content/attachments/DC-COVID-19-Data-for-April-7-2020.xlsx\" target=\"_blank\" title=\"Download copy of DC COVID-19 data\">Download copy of DC COVID-19 data</a></li>\n",
       "</ul>\n",
       "<p><strong>April 6, 2020</strong></p>\n",
       "<ul>\n",
       "<li>Total Tested Overall: 7823</li>\n",
       "<li>Total Positives: 1211</li>\n",
       "<li>Total Deaths: 22</li>\n",
       "<li>Total Recovered: 318</li>\n",
       "</ul>\n",
       "<p><strong>April 4, 2020</strong></p>\n",
       "<ul>\n",
       "<li>Total Tested Overall: 6834</li>\n",
       "<li>Total Positives: 998</li>\n",
       "<li>Total Deaths: 22</li>\n",
       "<li>Total Recovered: 258</li>\n",
       "</ul>\n",
       "<p><strong>April 3, 2020</strong></p>\n",
       "<ul>\n",
       "<li>Total Tested Overall: 6438</li>\n",
       "<li>Total Positives: 902</li>\n",
       "<li>Total Deaths: 21</li>\n",
       "<li>Total Recovered: 235</li>\n",
       "</ul>\n",
       "<p><strong>April 2, 2020</strong></p>\n",
       "<ul>\n",
       "<li>Total Tested Overall: 5584</li>\n",
       "<li>Total Positives: 757</li>\n",
       "<li>Total Deaths: 15</li>\n",
       "<li>Total Recovered: 206</li>\n",
       "</ul>\n",
       "<p><strong>April 1, 2020</strong></p>\n",
       "<ul>\n",
       "<li>Number of people tested overall: 5,070</li>\n",
       "<li>Total positives: 653</li>\n",
       "<li>Number of deaths: 12</li>\n",
       "<li>Number of people who have recovered: 173</li>\n",
       "</ul>\n",
       "</body>\n",
       "</html>"
      ]
     },
     "execution_count": 25,
     "metadata": {},
     "output_type": "execute_result"
    }
   ],
   "source": [
    "#14\n",
    "myhtml = open('dcdata.html',\"r\")\n",
    "soup = BeautifulSoup(myhtml, 'html.parser')\n",
    "soup\n",
    "#element = soup.find(\"p\")\n",
    "#element"
   ]
  },
  {
   "cell_type": "code",
   "execution_count": 37,
   "metadata": {},
   "outputs": [
    {
     "data": {
      "text/plain": [
       "<li>Total Recovered: 518</li>"
      ]
     },
     "execution_count": 37,
     "metadata": {},
     "output_type": "execute_result"
    }
   ],
   "source": [
    "#16\n",
    "myhtml = open('dcdata.html',\"r\")\n",
    "soup = BeautifulSoup(myhtml, 'html.parser')\n",
    "recovered = soup.find_all(\"li\")[3]\n",
    "recovered"
   ]
  },
  {
   "cell_type": "code",
   "execution_count": 80,
   "metadata": {},
   "outputs": [],
   "source": [
    "#17 3480\n",
    "df = pd.read_csv(\"Border_Crossing_Entry_Data.csv\")\n",
    "ndf = df[[\"PortCode\",\"PortName\"]].groupby([\"PortCode\"]).agg(\"count\").max()"
   ]
  },
  {
   "cell_type": "code",
   "execution_count": 65,
   "metadata": {},
   "outputs": [
    {
     "ename": "TypeError",
     "evalue": "string indices must be integers",
     "output_type": "error",
     "traceback": [
      "\u001b[0;31m---------------------------------------------------------------------------\u001b[0m",
      "\u001b[0;31mTypeError\u001b[0m                                 Traceback (most recent call last)",
      "\u001b[0;32m<ipython-input-65-b854d942d2cf>\u001b[0m in \u001b[0;36m<module>\u001b[0;34m()\u001b[0m\n\u001b[1;32m      1\u001b[0m \u001b[0;31m#18\u001b[0m\u001b[0;34m\u001b[0m\u001b[0;34m\u001b[0m\u001b[0;34m\u001b[0m\u001b[0m\n\u001b[0;32m----> 2\u001b[0;31m \u001b[0mndf\u001b[0m \u001b[0;34m=\u001b[0m \u001b[0mdf\u001b[0m\u001b[0;34m[\u001b[0m\u001b[0;34m[\u001b[0m\u001b[0;34m\"Measure\"\u001b[0m\u001b[0;34m,\u001b[0m\u001b[0;34m\"Value\"\u001b[0m\u001b[0;34m]\u001b[0m\u001b[0;34m]\u001b[0m\u001b[0;34m.\u001b[0m\u001b[0mgroupby\u001b[0m\u001b[0;34m(\u001b[0m\u001b[0;34m[\u001b[0m\u001b[0;34m\"Measure\"\u001b[0m\u001b[0;34m]\u001b[0m\u001b[0;34m)\u001b[0m\u001b[0;34m.\u001b[0m\u001b[0magg\u001b[0m\u001b[0;34m(\u001b[0m\u001b[0;34m\"sum\"\u001b[0m\u001b[0;34m)\u001b[0m\u001b[0;34m\u001b[0m\u001b[0;34m\u001b[0m\u001b[0m\n\u001b[0m",
      "\u001b[0;31mTypeError\u001b[0m: string indices must be integers"
     ]
    }
   ],
   "source": [
    "#18\n",
    "ndf = df[[\"Measure\",\"Value\"]].groupby([\"Measure\"]).agg(\"sum\")"
   ]
  },
  {
   "cell_type": "code",
   "execution_count": null,
   "metadata": {},
   "outputs": [],
   "source": [
    "#20\n",
    "#concat combines different rows"
   ]
  }
 ],
 "metadata": {
  "kernelspec": {
   "display_name": "Python 3",
   "language": "python",
   "name": "python3"
  },
  "language_info": {
   "codemirror_mode": {
    "name": "ipython",
    "version": 3
   },
   "file_extension": ".py",
   "mimetype": "text/x-python",
   "name": "python",
   "nbconvert_exporter": "python",
   "pygments_lexer": "ipython3",
   "version": "3.7.2"
  }
 },
 "nbformat": 4,
 "nbformat_minor": 2
}
