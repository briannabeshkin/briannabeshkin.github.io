{
 "cells": [
  {
   "cell_type": "markdown",
   "metadata": {},
   "source": [
    "# Exercise 7 Text Analysis\n",
    "\n",
    "Skills\n",
    "- learn to write regular expressions (re)\n",
    "\n",
    "Resources\n",
    "- https://docs.python.org/3/library/re.html\n",
    "- https://www.dataquest.io/blog/regex-cheatsheet/\n",
    "- http://www.pyregex.com/"
   ]
  },
  {
   "cell_type": "code",
   "execution_count": 215,
   "metadata": {},
   "outputs": [],
   "source": [
    "# import modules\n",
    "import re, os\n",
    "import pandas as pd\n",
    "import numpy as np"
   ]
  },
  {
   "cell_type": "markdown",
   "metadata": {},
   "source": [
    "# Part A: Regular Expressions"
   ]
  },
  {
   "cell_type": "markdown",
   "metadata": {},
   "source": [
    "## Pattern Matching\n",
    "Here are some strings to practice creating regular expressions to match."
   ]
  },
  {
   "cell_type": "code",
   "execution_count": 61,
   "metadata": {},
   "outputs": [
    {
     "name": "stdout",
     "output_type": "stream",
     "text": [
      "<re.Match object; span=(0, 10), match='01/21/2018'>\n",
      "<re.Match object; span=(0, 10), match='12/12/2012'>\n",
      "<re.Match object; span=(0, 10), match='03/03/2018'>\n"
     ]
    }
   ],
   "source": [
    "# write a regular expression to match dates of the form MM/DD/YYYY\n",
    "pattern01 = ['01/21/2018', '12/12/2012', '03/03/2018']\n",
    "\n",
    "# loop through pattern01\n",
    "# use your regular expression to search for a match\n",
    "# print the output to verify it matched the example pattern\n",
    "for i in pattern01:\n",
    "    x = re.search('\\d\\d/+\\d\\d/+\\d+', i)\n",
    "    print(x)"
   ]
  },
  {
   "cell_type": "code",
   "execution_count": 108,
   "metadata": {},
   "outputs": [
    {
     "name": "stdout",
     "output_type": "stream",
     "text": [
      "<re.Match object; span=(0, 13), match='March 8, 2017'>\n",
      "<re.Match object; span=(0, 16), match='January 15, 2018'>\n",
      "<re.Match object; span=(0, 11), match='May 3, 2017'>\n"
     ]
    }
   ],
   "source": [
    "# write a regular expression to match dates of the form Month Day, Year\n",
    "pattern02 = ['March 8, 2017', 'January 15, 2018', 'May 3, 2017']\n",
    "\n",
    "# loop through pattern02\n",
    "# use your regular expression to search for a match\n",
    "# print the output to verify it matched the example pattern\n",
    "for i in pattern02:\n",
    "    x = re.search('[A-Za-z]+ \\d+, \\d{4}', i)\n",
    "    print(x)"
   ]
  },
  {
   "cell_type": "code",
   "execution_count": 58,
   "metadata": {},
   "outputs": [
    {
     "name": "stdout",
     "output_type": "stream",
     "text": [
      "<re.Match object; span=(0, 13), match='email@umd.edu'>\n",
      "<re.Match object; span=(0, 22), match='email@terpmail.umd.edu'>\n",
      "<re.Match object; span=(5, 19), match='email@ox.ac.uk'>\n"
     ]
    }
   ],
   "source": [
    "#  write a regular expression to match Email addresses of the form username@host\n",
    "pattern03 = ['email@umd.edu', 'email@terpmail.umd.edu', 'some.email@ox.ac.uk']\n",
    "\n",
    "# loop through pattern03\n",
    "# use your regular expression to search for a match\n",
    "# print the output to verify it matched the example pattern\n",
    "for i in pattern03:\n",
    "    x = re.search('\\w+@\\w+\\.\\w+.+', i)\n",
    "    print(x)"
   ]
  },
  {
   "cell_type": "code",
   "execution_count": 109,
   "metadata": {},
   "outputs": [
    {
     "name": "stdout",
     "output_type": "stream",
     "text": [
      "<re.Match object; span=(0, 11), match='111-11-1111'>\n",
      "<re.Match object; span=(0, 11), match='999-19-1919'>\n",
      "<re.Match object; span=(0, 11), match='888-12-3434'>\n"
     ]
    }
   ],
   "source": [
    "#  write a regular expression to match Social Security Numbers\n",
    "pattern04 = ['111-11-1111', '999-19-1919', '888-12-3434']\n",
    "\n",
    "# loop through pattern04\n",
    "# use your regular expression to search for a match\n",
    "# print the output to verify it matched the example pattern\n",
    "for i in pattern04:\n",
    "    x = re.search('\\d{3}-\\d{2}-\\d{4}', i)\n",
    "    print(x)"
   ]
  },
  {
   "cell_type": "code",
   "execution_count": 73,
   "metadata": {},
   "outputs": [
    {
     "name": "stdout",
     "output_type": "stream",
     "text": [
      "<re.Match object; span=(0, 12), match='555-255-9292'>\n",
      "<re.Match object; span=(0, 12), match='301.405.1000'>\n",
      "<re.Match object; span=(0, 13), match='(301)405-4400'>\n",
      "<re.Match object; span=(0, 14), match='1-800-333-4455'>\n"
     ]
    }
   ],
   "source": [
    "#  write a regular expression to match Phone numbers\n",
    "pattern05 = ['555-255-9292', '301.405.1000', '(301)405-4400', '1-800-333-4455']\n",
    "\n",
    "# loop through pattern05\n",
    "# use your regular expression to search for a match\n",
    "# print the output to verify it matched the example pattern\n",
    "for i in pattern05:\n",
    "    x = re.search('..\\d...\\d+.\\d+.\\d+', i)\n",
    "    print(x)"
   ]
  },
  {
   "cell_type": "code",
   "execution_count": 128,
   "metadata": {},
   "outputs": [
    {
     "name": "stdout",
     "output_type": "stream",
     "text": [
      "1\n",
      "2\n",
      "3\n",
      "4\n",
      "1\n",
      "2\n",
      "3\n",
      "4\n",
      "1\n",
      "2\n",
      "3\n",
      "4\n"
     ]
    }
   ],
   "source": [
    "#  write a regular expression to match YouTube Video Links and pull out the videoids\n",
    "pattern06 = '''https://www.youtube.com/watch?feature=something&v=videoid1&embed=something\n",
    "http://www.youtube.com/watch?feature=something&v=videoid2&embed=something\n",
    "www.youtube.com/watch?feature=something&v=videoid3&embed=something\n",
    "youtube.com/watch?feature=something&v=videoid4&embed=something\n",
    "https://www.youtube.com/watch?v=videoid1\n",
    "http://www.youtube.com/watch?v=videoid2\n",
    "www.youtube.com/watch?v=videoid3\n",
    "youtube.com/watch?v=videoid4\n",
    "https://www.youtube.com/v/videoid1\n",
    "http://www.youtube.com/v/videoid2\n",
    "www.youtube.com/v/videoid3\n",
    "youtube.com/v/videoid4\n",
    "'''\n",
    "# use your regular expression to search for all the matches in the string\n",
    "# loop through the matches \n",
    "# print each output to verify it matched the videoids\n",
    "x = re.findall('youtube\\.com/\\S+videoid(\\d)', pattern06)\n",
    "for i in x:\n",
    "    print(i)"
   ]
  },
  {
   "cell_type": "markdown",
   "metadata": {},
   "source": [
    "# Part B: Applied Regular Expressions"
   ]
  },
  {
   "cell_type": "markdown",
   "metadata": {},
   "source": [
    "## Web Server Logs\n",
    "This is a typical server log for a web server. Regex is often used to make sense of it.\n",
    "\n",
    "Create a DataFrame with the IP Address, Date, Time, HTTP Status code, but only for pages in /twiki"
   ]
  },
  {
   "cell_type": "code",
   "execution_count": 355,
   "metadata": {},
   "outputs": [
    {
     "name": "stdout",
     "output_type": "stream",
     "text": [
      "              ip         date      time http\n",
      "0   64.242.88.10  07/Mar/2004  16:05:49  401\n",
      "1   64.242.88.10  07/Mar/2004  16:06:51  200\n",
      "2   64.242.88.10  07/Mar/2004  16:10:02  200\n",
      "3   64.242.88.10  07/Mar/2004  16:11:58  200\n",
      "4   64.242.88.10  07/Mar/2004  16:20:55  200\n",
      "5   64.242.88.10  07/Mar/2004  16:23:12  200\n",
      "6   64.242.88.10  07/Mar/2004  16:24:16  200\n",
      "7   64.242.88.10  07/Mar/2004  16:29:16  401\n",
      "8   64.242.88.10  07/Mar/2004  16:30:29  401\n",
      "9   64.242.88.10  07/Mar/2004  16:31:48  200\n",
      "10  64.242.88.10  07/Mar/2004  16:32:50  200\n",
      "11  64.242.88.10  07/Mar/2004  16:33:53  401\n",
      "12  64.242.88.10  07/Mar/2004  16:35:19  200\n",
      "13  64.242.88.10  07/Mar/2004  16:36:22  200\n",
      "14  64.242.88.10  07/Mar/2004  16:37:27  200\n",
      "15  64.242.88.10  07/Mar/2004  16:39:24  200\n",
      "16  64.242.88.10  07/Mar/2004  16:43:54  200\n",
      "17  64.242.88.10  07/Mar/2004  16:45:56  401\n",
      "18  64.242.88.10  07/Mar/2004  16:47:12  200\n",
      "19  64.242.88.10  07/Mar/2004  16:47:46  200\n",
      "20  64.242.88.10  07/Mar/2004  16:49:04  200\n",
      "21  64.242.88.10  07/Mar/2004  16:50:54  200\n",
      "22  64.242.88.10  07/Mar/2004  16:52:35  401\n",
      "23  64.242.88.10  07/Mar/2004  16:53:46  200\n",
      "24  64.242.88.10  07/Mar/2004  16:54:55  200\n",
      "25  64.242.88.10  07/Mar/2004  16:56:39  200\n",
      "26  64.242.88.10  07/Mar/2004  16:58:54  200\n",
      "27  64.242.88.10  07/Mar/2004  17:09:01  200\n",
      "28  64.242.88.10  07/Mar/2004  17:10:20  200\n",
      "29  64.242.88.10  07/Mar/2004  17:13:50  401\n",
      "30  64.242.88.10  07/Mar/2004  17:16:00  200\n",
      "31  64.242.88.10  07/Mar/2004  17:17:27  200\n",
      "32  64.242.88.10  07/Mar/2004  17:21:44  401\n",
      "33  64.242.88.10  07/Mar/2004  17:22:49  200\n",
      "34  64.242.88.10  07/Mar/2004  17:23:54  200\n",
      "35  64.242.88.10  07/Mar/2004  17:26:30  200\n",
      "36  64.242.88.10  07/Mar/2004  17:27:37  401\n",
      "37  64.242.88.10  07/Mar/2004  17:28:45  200\n",
      "38  64.242.88.10  07/Mar/2004  17:29:59  200\n",
      "39  64.242.88.10  07/Mar/2004  17:31:39  401\n",
      "40  64.242.88.10  07/Mar/2004  17:35:35  200\n",
      "41  64.242.88.10  07/Mar/2004  17:39:39  200\n",
      "42  64.242.88.10  07/Mar/2004  17:42:15  200\n",
      "43  64.242.88.10  07/Mar/2004  17:46:17  200\n",
      "44  64.242.88.10  07/Mar/2004  17:47:43  200\n",
      "45  64.242.88.10  07/Mar/2004  17:50:44  200\n",
      "46  64.242.88.10  07/Mar/2004  17:53:45  200\n"
     ]
    }
   ],
   "source": [
    "# read in the data\n",
    "f = open('http_log.txt', 'r')\n",
    "text = f.read()\n",
    "#print(text)\n",
    "f.close()\n",
    "\n",
    "# write a regular expression to match ip address, date, time (format zero padded 24 hour time 03:02:12), http status code (three digits second to last number in log e.g. 200, 401) \n",
    "# HINT: you can use wildcard .*? between the items of interest\n",
    "# HINT: you can use group to extract the key information\n",
    "# use your regular expression to search for all the matches in the string\n",
    "# loop through the matches \n",
    "# save key information as a dictionary e.g. logdict = {\"ip\":m.group('ip'),\"date\":m.group('date'),...}\n",
    "# append dictionary to your listlogs e.g. listlogs.append(logdict)\n",
    "# convert list of dictionaries to a data frame\n",
    "listlogs = []\n",
    "\n",
    "mlist = re.finditer('(?P<ip>\\d{2}\\.\\d{3}\\.\\d{2}\\.\\d{2}).+(?P<date>\\d{2}\\/\\w+\\/\\d{4}).+(?P<time>\\d{2}:\\d{2}:\\d{2}).+\"\\s(?P<http>\\d{3})', text)\n",
    "for m in mlist:\n",
    "    logdict = ({\"ip\":m.group('ip'),\"date\":m.group('date'),\"time\":m.group('time'),\"http\":m.group('http')})\n",
    "    listlogs.append(logdict)\n",
    "df = pd.DataFrame(listlogs)"
   ]
  },
  {
   "cell_type": "markdown",
   "metadata": {},
   "source": [
    "## Email Server Logs\n",
    "This is a typical server log for an email server. Administrators often use regex to make sense of it.\n",
    "\n",
    "Create a DataFrame with the date, time, email address, and the reason it was blocked"
   ]
  },
  {
   "cell_type": "code",
   "execution_count": 356,
   "metadata": {},
   "outputs": [
    {
     "name": "stdout",
     "output_type": "stream",
     "text": [
      "         date      time          email  \\\n",
      "0  2008-11-08  06:32:46    r@donin.com   \n",
      "1  2008-11-08  06:35:41  y@surecom.com   \n",
      "\n",
      "                                              reason  \n",
      "0  Not supporting null originator (DSN)\\tmsg deni...  \n",
      "1  Not supporting null originator (DSN)\\tmsg deni...  \n"
     ]
    }
   ],
   "source": [
    "# read in the data\n",
    "f = open('email_log.txt', 'r')\n",
    "text = f.read()\n",
    "#print(text)\n",
    "f.close()\n",
    "\n",
    "\n",
    "# use regular expressions to select key elements\n",
    "# create a data frame with this information\n",
    "\n",
    "# write a regular expression to match date, time (format zero padded 24 hour time 03:02:12), email address (e.g. toshiter@donin.com), and reason it was blocked (e.g. \"Not supporting null originator (DSN)\")  \n",
    "# HINT: you can use wildcard .*? between the items of interest\n",
    "# HINT: you can use group to extract the key information\n",
    "# use your regular expression to search for all the matches in the string\n",
    "# loop through the matches \n",
    "# save key information as a dictionary\n",
    "# append dictionary to your list\n",
    "# convert list of dictionaries to a data frame\n",
    "listemaillogs = []\n",
    "\n",
    "\n",
    "nlist = re.finditer('(?P<date>\\d{4}\\-\\d{2}\\-\\d{2}).+(?P<time>\\d{2}:\\d{2}:\\d{2}).+(?P<email>\\w+@\\w+\\.com).+(?P<reason>Not\\s.+)', text)\n",
    "for m in nlist:\n",
    "    emaillogdict = {\"date\":m.group('date'),\"time\":m.group('time'),\"email\":m.group('email'),\"reason\":m.group('reason')}\n",
    "    listemaillogs.append(emaillogdict)\n",
    "ndf = pd.DataFrame(listemaillogs)"
   ]
  },
  {
   "cell_type": "markdown",
   "metadata": {},
   "source": [
    "## Raw Email\n",
    "For e-discovery (the process of identifying computer-based evidence for legal cases), sometimes you need to get information out of raw email files. Or maybe you are trying to automate a process, like support tickets, through email. Regex is a powerful way to extract the data."
   ]
  },
  {
   "cell_type": "code",
   "execution_count": 29,
   "metadata": {},
   "outputs": [
    {
     "name": "stdout",
     "output_type": "stream",
     "text": [
      "Delivered-To: dheidenb@g.umd.edu\n",
      "Received: by 10.107.97.16 with SMTP id v16csp1457303iob;\n",
      "        Fri, 6 Apr 2018 23:52:05 -0700 (PDT)\n",
      "X-Google-Smtp-Source: AIpwx49QF9wByhFrrDVu8jOcevoYTjBgsXVpFigpy/M+frwwbaztCehK85I/7Agu5xHy6h+wiY40\n",
      "X-Received: by 2002:a17:902:44c:: with SMTP id 70-v6mr30630830ple.354.1523083925115;\n",
      "        Fri, 06 Apr 2018 23:52:05 -0700 (PDT)\n",
      "ARC-Seal: i=1; a=rsa-sha256; t=1523083925; cv=none;\n",
      "        d=google.com; s=arc-20160816;\n",
      "        b=mHordDyZArJVKMkNOjGxO788LUlIsOruQk0uDRLD6/aYXlgFwfvPlw1c4HIIYwHPbK\n",
      "         ppHYGm1o+7e8BpGHn2YRYbeS6SlndcVdbA3pel5P5iVbyy8hjFuHfqRElNEMXBJHAzOl\n",
      "         D6O0YSaN/x2rhurT+a8IIxlsT7tsfjrN1lcoOAOA/kOOWqWEBHUFeVUOivHrYWyDB/+5\n",
      "         mlQ/d/6yF9XDZSkC1P4WV3KdJJ1fdtv99MtcYIOpkr13AR11aCUldZnjdaM3odqxhyAl\n",
      "         gR2BoN/Am2u07m0F0F2KZUT3u9GHrqylRzrrKNtKKXuttNmeohUaSd7hr0G4N6sh9yH2\n",
      "         vXdg==\n",
      "ARC-Message-Signature: i=1; a=rsa-sha256; c=relaxed/relaxed; d=google.com; s=arc-20160816;\n",
      "        h=sender:errors-to:content-transfer-encoding:list-subscribe:list-help\n",
      "         :list-post:list-archive:list-unsubscribe:list-id:precedence:subject\n",
      "         :content-language:mime-version:user-agent:date:message-id:from:to\n",
      "         :delivered-to:arc-authentication-results;\n",
      "        bh=nY2wvKwd0Meofh0bXODaiq/0QjtJBsdlJzCxf/UJoCY=;\n",
      "        b=MU07sg6FYpZU/IbusgB96zAL05mbuFa835rgIEvMgKL4kK5LF10oxRIbMow7df0gpz\n",
      "         LuZhKPAba0FENQp7VdjFwN9wRHFuQxQjBpMozxxvJeXGJGWvnj8h/0q6ALi362+ZTjKr\n",
      "         Loxxmad9iilPOaEbXefYUY4p9pz282Owa/bRXVm7oBFEMA5RxNbcXCSudLw+QxyLIVyT\n",
      "         K8OhnsVgDUjp5zJu+BhlN0CCJK6nDENZSeT4MnHut56XsrOX5c7FHnz3DDOKZFB6Swh3\n",
      "         i7q9wXsjn0ocp/lt9hSmPH7dXWVFLbFaG0sx6lzbwtyxEiH9gK2KrxqsvT2f7LZ31Bui\n",
      "         2U4g==\n",
      "ARC-Authentication-Results: i=1; mx.google.com;\n",
      "       spf=permerror (google.com: domain of air-l-bounces@listserv.aoir.org uses a mechanism not recognized by this client. unknown\n",
      "  mechanisms: )) smtp.mailfrom=air-l-bounces@listserv.aoir.org\n",
      "Return-Path: <air-l-bounces@listserv.aoir.org>\n",
      "Received: from esa2.umd.iphmx.com (esa2.umd.iphmx.com. [68.232.143.84])\n",
      "        by mx.google.com with ESMTPS id b7-v6si10620325pla.345.2018.04.06.23.52.04\n",
      "        for <dheidenb@g.umd.edu>\n",
      "        (version=TLS1_2 cipher=ECDHE-RSA-AES128-GCM-SHA256 bits=128/128);\n",
      "        Fri, 06 Apr 2018 23:52:05 -0700 (PDT)\n",
      "Received-SPF: permerror (google.com: domain of air-l-bounces@listserv.aoir.org uses a mechanism not recognized by this client. unknown\n",
      "  mechanisms: )) client-ip=64.90.62.202;\n",
      "Authentication-Results: mx.google.com;\n",
      "       spf=permerror (google.com: domain of air-l-bounces@listserv.aoir.org uses a mechanism not recognized by this client. unknown\n",
      "  mechanisms: )) smtp.mailfrom=air-l-bounces@listserv.aoir.org\n",
      "X-IronPort-AV: E=Sophos;i=\"5.48,418,1517893200\";\n",
      "    d=\"scan'208\";a=\"312043989\"\n",
      "Received: from pdx1-mailman01.dreamhost.com ([64.90.62.202])\n",
      "  by esa2.umd.iphmx.com with ESMTP/TLS/DHE-RSA-AES256-GCM-SHA384; 07 Apr 2018 02:52:03 -0400\n",
      "Received: from pdx1-mailman01.dreamhost.com (pdx1-mailman01.dreamhost.com [IPv6:::1]) by pdx1-mailman01.dreamhost.com (Postfix) with ESMTP id 168E221EE6; Fri,\n",
      "  6 Apr 2018 23:52:03 -0700 (PDT)\n",
      "X-Original-To: air-l@listserv.aoir.org\n",
      "Delivered-To: air-l-aoir.org@pdx1-mailman01.dreamhost.com\n",
      "Received: from mail-out01.uio.no (mail-out01.uio.no [129.240.10.50]) by pdx1-mailman01.dreamhost.com (Postfix) with ESMTP id 85E69205E9; Fri,\n",
      "  6 Apr 2018 23:51:50 -0700 (PDT)\n",
      "Received: from mail-mx06.uio.no ([129.240.10.40]) by mail-out01.uio.no with esmtps (TLSv1.2:ECDHE-RSA-AES256-GCM-SHA384:256) (Exim 4.90_1) (envelope-from <c.m.ess@media.uio.no>) id 1f4hhV-0005Cy-6U; Sat, 07 Apr 2018 08:51:49 +0200\n",
      "Received: from 42.249.16.62.customer.cdi.no ([62.16.249.42] helo=[192.168.1.122]) by mail-mx06.uio.no with esmtpsa (TLSv1.2:ECDHE-RSA-AES128-GCM-SHA256:128) user charlees (Exim 4.90_1) (envelope-from <c.m.ess@media.uio.no>) id 1f4hhU-00078a-7j; Sat, 07 Apr 2018 08:51:49 +0200\n",
      "To: \"ethics@listserv.aoir.org\" <ethics@listserv.aoir.org>, air-l <air-l@listserv.aoir.org>\n",
      "From: \"Charles M. Ess\" <c.m.ess@media.uio.no>\n",
      "Message-ID: <451dfdd2-358e-1e58-ccae-4718289f3922@media.uio.no>\n",
      "Date: Sat, 7 Apr 2018 08:51:47 +0200\n",
      "User-Agent: Mozilla/5.0 (Macintosh; Intel Mac OS X 10.13; rv:52.0) Gecko/20100101 Thunderbird/52.6.0\n",
      "MIME-Version: 1.0\n",
      "Content-Language: en-US\n",
      "X-UiO-SPF-Received: Received-SPF: neutral (mail-mx06.uio.no: 62.16.249.42 is neither permitted nor denied by domain of media.uio.no) client-ip=62.16.249.42; envelope-from=c.m.ess@media.uio.no; helo=[192.168.1.122];\n",
      "X-UiO-Spam-info: not spam, SpamAssassin (score=-5.0, required=5.0, autolearn=disabled, TVD_RCVD_IP=0.001, UIO_MAIL_IS_INTERNAL=-5, uiobl=NO, uiouri=NO)\n",
      "X-UiO-Scanned: 2A1DE29A1856AF7E63BF695DDAA481B35A5432E7\n",
      "X-UiOonly: 9F75DE00B30F1A6223FEFA9B8083E5AC9F129DD9\n",
      "Subject: [Air-L] Terms of Service not legally binding?\n",
      "X-BeenThere: air-l@listserv.aoir.org\n",
      "X-Mailman-Version: 2.1.23\n",
      "Precedence: list\n",
      "List-Id: Association of Internet Researchers <air-l-aoir.org>\n",
      "List-Unsubscribe: <http://listserv.aoir.org/options.cgi/air-l-aoir.org>, <mailto:air-l-request@listserv.aoir.org?subject=unsubscribe>\n",
      "List-Archive: <http://listserv.aoir.org/pipermail/air-l-aoir.org/>\n",
      "List-Post: <mailto:air-l@listserv.aoir.org>\n",
      "List-Help: <mailto:air-l-request@listserv.aoir.org?subject=help>\n",
      "List-Subscribe: <http://listserv.aoir.org/listinfo.cgi/air-l-aoir.org>, <mailto:air-l-request@listserv.aoir.org?subject=subscribe>\n",
      "Content-Transfer-Encoding: 7bit\n",
      "Content-Type: text/plain; charset=\"us-ascii\"; Format=\"flowed\"\n",
      "Errors-To: air-l-bounces@listserv.aoir.org\n",
      "Sender: Air-L <air-l-bounces@listserv.aoir.org>\n",
      "\n",
      "Dear colleagues,\n",
      "\n",
      "With apologies for spamming the lists - on behalf of both a student \n",
      "project and our development of further refinements in internet research \n",
      "ethics I'd like to ask the following.\n",
      "\n",
      "I've heard somewhere recently that a U.S. court has ruled that Terms of \n",
      "Service are not necessarily legally binding.\n",
      "If anyone can forward more exact details of the ruling, I'd be very \n",
      "grateful indeed.\n",
      "\n",
      "Why? There is considerable discussion regarding the creation of fake \n",
      "profiles as part of research into social media, algorithms, etc.  I have \n",
      "the impression that this has become common practice, and this ruling may \n",
      "give some direct and/or indirect support to arguments for such a \n",
      "practice.  (With important caveats, generally a good thing in my view, \n",
      "FWIW.)\n",
      "\n",
      "At the same time, however, Norwegian law and thereby research ethics, as \n",
      "a start, tend to be considerably more strict than the U.S. (and even, in \n",
      "some instances, the E.U.).  I would like to figure out the differences \n",
      "and resulting nuances in the implications for research ethics - both for \n",
      "the sake of the general example and for an MA student project that I \n",
      "have the pleasure of supervising.\n",
      "\n",
      "Many thanks in advance for any tips and suggestions.\n",
      "\n",
      "All best,\n",
      "- charles ess\n",
      "\n",
      "-- \n",
      "Professor in Media Studies\n",
      "Department of Media and Communication\n",
      "University of Oslo\n",
      "<http://www.hf.uio.no/imk/english/people/aca/charlees/index.html>\n",
      "\n",
      "Postboks 1093\n",
      "Blindern 0317\n",
      "Oslo, Norway\n",
      "c.m.ess@media.uio.no\n",
      "_______________________________________________\n",
      "The Air-L@listserv.aoir.org mailing list\n",
      "is provided by the Association of Internet Researchers http://aoir.org\n",
      "Subscribe, change options or unsubscribe at: http://listserv.aoir.org/listinfo.cgi/air-l-aoir.org\n",
      "\n",
      "Join the Association of Internet Researchers:\n",
      "http://www.aoir.org/\n"
     ]
    }
   ],
   "source": [
    "# read in text file\n",
    "f = open('raw_email.txt', 'r')\n",
    "text = f.read()\n",
    "print(text)\n",
    "f.close()"
   ]
  },
  {
   "cell_type": "code",
   "execution_count": 95,
   "metadata": {
    "scrolled": true
   },
   "outputs": [
    {
     "name": "stdout",
     "output_type": "stream",
     "text": [
      "['dheidenb@g.umd.edu', 'air-l@listserv.aoir.org', 'air-l-aoir.org@pdx1-mailman01.dreamhost.com', '\"ethics@listserv.aoir.org\" <ethics@listserv.aoir.org>, air-l <air-l@listserv.aoir.org', 'air-l-bounces@listserv.aoir.org']\n"
     ]
    }
   ],
   "source": [
    "# Get the email addresses of the lists this was sent to using regular expressions \n",
    "# HINT: See the line \"To: \" which specifies to whom the email was sent\n",
    "# e.g. ethics@listserv.aoir.org\n",
    "#e = re.search('\\w+@\\w+\\.\\w+\\.+\\w+', text)\n",
    "e = re.findall('To:\\s(.+@.+\\..+\\.\\w+)', text)\n",
    "print(e)"
   ]
  },
  {
   "cell_type": "code",
   "execution_count": 98,
   "metadata": {},
   "outputs": [
    {
     "name": "stdout",
     "output_type": "stream",
     "text": [
      "<re.Match object; span=(4008, 4022), match='Charles M. Ess'>\n"
     ]
    }
   ],
   "source": [
    "# Get the name of the sender using regular expressions\n",
    "# HINT: See the line \"From: \" which specifies who sent the email\n",
    "name = re.search('\\w+\\s\\w\\.\\s\\w+', text)\n",
    "print(name)"
   ]
  },
  {
   "cell_type": "code",
   "execution_count": 61,
   "metadata": {},
   "outputs": [
    {
     "name": "stdout",
     "output_type": "stream",
     "text": [
      "<re.Match object; span=(3557, 3577), match='c.m.ess@media.uio.no'>\n"
     ]
    }
   ],
   "source": [
    "# Get the email of the sender using regular expressions\n",
    "# HINT: See the line \"From: \" which specifies who sent the email\n",
    "email = re.search('\\w\\.\\w\\.\\w+@\\w+\\.\\w+\\.\\w\\w', text)\n",
    "print(email)"
   ]
  },
  {
   "cell_type": "code",
   "execution_count": 116,
   "metadata": {},
   "outputs": [
    {
     "name": "stdout",
     "output_type": "stream",
     "text": [
      "['10.107.97.16', '68.232.143.84', '345.2018.04.06', '64.90.62.202', '64.90.62.202', '129.240.10.50', '129.240.10.40', '42.249.16.62', '62.16.249.42', '192.168.1.122', '62.16.249.42', '62.16.249.42', '192.168.1.122']\n"
     ]
    }
   ],
   "source": [
    "# Find all the IP addresses using regular expressions\n",
    "# HINT: IP addresses consist of four decimal numbers each ranging from 0 to 255 separated by dots\n",
    "# e.g. 172.16.254.1\n",
    "\n",
    "ip = re.findall('\\d+.\\d+.\\d+\\.\\d+', text)\n",
    "print(ip)"
   ]
  }
 ],
 "metadata": {
  "kernelspec": {
   "display_name": "Python 3",
   "language": "python",
   "name": "python3"
  },
  "language_info": {
   "codemirror_mode": {
    "name": "ipython",
    "version": 3
   },
   "file_extension": ".py",
   "mimetype": "text/x-python",
   "name": "python",
   "nbconvert_exporter": "python",
   "pygments_lexer": "ipython3",
   "version": "3.7.2"
  }
 },
 "nbformat": 4,
 "nbformat_minor": 2
}
