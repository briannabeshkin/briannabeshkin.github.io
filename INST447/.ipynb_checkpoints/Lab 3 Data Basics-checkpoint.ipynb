{
 "cells": [
  {
   "cell_type": "markdown",
   "metadata": {},
   "source": [
    "# Lab 3 Data Basics\n",
    "\n",
    "\n",
    "Installations\n",
    "- Install Python 3\n",
    "- Install Jupyter Notebooks\n",
    "- Install modules you need, such as pandas and numpy"
   ]
  },
  {
   "cell_type": "code",
   "execution_count": 1,
   "metadata": {},
   "outputs": [],
   "source": [
    "# import modules you need\n",
    "import pandas as pd\n",
    "import numpy as np"
   ]
  },
  {
   "cell_type": "markdown",
   "metadata": {},
   "source": [
    "# Part A: Python Review\n"
   ]
  },
  {
   "cell_type": "markdown",
   "metadata": {},
   "source": [
    "Install keras package for deep learning. We won't be using it in this class, but it is a popular package"
   ]
  },
  {
   "cell_type": "code",
   "execution_count": 20,
   "metadata": {},
   "outputs": [
    {
     "name": "stderr",
     "output_type": "stream",
     "text": [
      "Using TensorFlow backend.\n"
     ]
    }
   ],
   "source": [
    "# import keras after installing\n",
    "import keras"
   ]
  },
  {
   "cell_type": "markdown",
   "metadata": {},
   "source": [
    "Install gensim for topic modeling. We won't be usign it in this class, but it is a good natural language processing package."
   ]
  },
  {
   "cell_type": "code",
   "execution_count": 24,
   "metadata": {},
   "outputs": [
    {
     "ename": "ModuleNotFoundError",
     "evalue": "No module named 'genism'",
     "output_type": "error",
     "traceback": [
      "\u001b[0;31m---------------------------------------------------------------------------\u001b[0m",
      "\u001b[0;31mModuleNotFoundError\u001b[0m                       Traceback (most recent call last)",
      "\u001b[0;32m<ipython-input-24-0b3bab38cdd2>\u001b[0m in \u001b[0;36m<module>\u001b[0;34m()\u001b[0m\n\u001b[1;32m      1\u001b[0m \u001b[0;31m# import genism after installing\u001b[0m\u001b[0;34m\u001b[0m\u001b[0;34m\u001b[0m\u001b[0m\n\u001b[0;32m----> 2\u001b[0;31m \u001b[0;32mimport\u001b[0m \u001b[0mgenism\u001b[0m\u001b[0;34m\u001b[0m\u001b[0m\n\u001b[0m",
      "\u001b[0;31mModuleNotFoundError\u001b[0m: No module named 'genism'"
     ]
    }
   ],
   "source": [
    "# import genism after installing\n",
    "import genism"
   ]
  },
  {
   "cell_type": "code",
   "execution_count": 5,
   "metadata": {},
   "outputs": [],
   "source": [
    "# create a string with a one sentence statement \n",
    "firstString = \"Hello World\""
   ]
  },
  {
   "cell_type": "code",
   "execution_count": 6,
   "metadata": {},
   "outputs": [
    {
     "data": {
      "text/plain": [
       "<function TextIOWrapper.close()>"
      ]
     },
     "execution_count": 6,
     "metadata": {},
     "output_type": "execute_result"
    }
   ],
   "source": [
    "# write this string to a text file\n",
    "f = open(\"lab3.txt\", \"w\")\n",
    "f.write(firstString)\n",
    "f.close"
   ]
  },
  {
   "cell_type": "code",
   "execution_count": 7,
   "metadata": {},
   "outputs": [],
   "source": [
    "# use list comprehension to add 5 to each number in this list\n",
    "mylist = [8,1,2,4,1,29]\n",
    "newlist = [x+5 for x in mylist]"
   ]
  },
  {
   "cell_type": "code",
   "execution_count": 10,
   "metadata": {},
   "outputs": [],
   "source": [
    "# create a dictionary to map names of the days of the week (e.g. Sunday, Monday, Tuesday)\n",
    "# to numbers where Sunday = 0, Monday = 1, Tuesday = 2, etc.\n",
    "d = {\"Sunday\":0, \"Monday\":1, \"Tuesday\":2, \"Wednesday\":3, \"Thursday\":4, \"Friday\":5, \"Saturday\":6}"
   ]
  },
  {
   "cell_type": "code",
   "execution_count": 14,
   "metadata": {},
   "outputs": [],
   "source": [
    "# create a lambda function to divide a number by 100\n",
    "lf = lambda x: x/100"
   ]
  },
  {
   "cell_type": "code",
   "execution_count": 15,
   "metadata": {},
   "outputs": [
    {
     "data": {
      "text/plain": [
       "0.5"
      ]
     },
     "execution_count": 15,
     "metadata": {},
     "output_type": "execute_result"
    }
   ],
   "source": [
    "# use your lambda function to divide the number 50 by 100\n",
    "lf(50)"
   ]
  },
  {
   "cell_type": "markdown",
   "metadata": {},
   "source": [
    "# Part B: Introduction Data Frames\n"
   ]
  },
  {
   "cell_type": "markdown",
   "metadata": {},
   "source": [
    "## Read in weather data"
   ]
  },
  {
   "cell_type": "code",
   "execution_count": 31,
   "metadata": {},
   "outputs": [],
   "source": [
    "# read in the weather data from csv (WeatherData.csv)\n",
    "df = pd.read_csv(\"WeatherData.csv\")\n",
    "\n",
    "\n"
   ]
  },
  {
   "cell_type": "code",
   "execution_count": 32,
   "metadata": {},
   "outputs": [
    {
     "data": {
      "text/html": [
       "<div>\n",
       "<style scoped>\n",
       "    .dataframe tbody tr th:only-of-type {\n",
       "        vertical-align: middle;\n",
       "    }\n",
       "\n",
       "    .dataframe tbody tr th {\n",
       "        vertical-align: top;\n",
       "    }\n",
       "\n",
       "    .dataframe thead th {\n",
       "        text-align: right;\n",
       "    }\n",
       "</style>\n",
       "<table border=\"1\" class=\"dataframe\">\n",
       "  <thead>\n",
       "    <tr style=\"text-align: right;\">\n",
       "      <th></th>\n",
       "      <th>STATION</th>\n",
       "      <th>NAME</th>\n",
       "      <th>DATE</th>\n",
       "      <th>AWND</th>\n",
       "      <th>AWND_ATTRIBUTES</th>\n",
       "      <th>PRCP</th>\n",
       "      <th>PRCP_ATTRIBUTES</th>\n",
       "      <th>SNOW</th>\n",
       "      <th>SNOW_ATTRIBUTES</th>\n",
       "      <th>SNWD</th>\n",
       "      <th>...</th>\n",
       "      <th>WT03</th>\n",
       "      <th>WT03_ATTRIBUTES</th>\n",
       "      <th>WT04</th>\n",
       "      <th>WT04_ATTRIBUTES</th>\n",
       "      <th>WT06</th>\n",
       "      <th>WT06_ATTRIBUTES</th>\n",
       "      <th>WT08</th>\n",
       "      <th>WT08_ATTRIBUTES</th>\n",
       "      <th>WT09</th>\n",
       "      <th>WT09_ATTRIBUTES</th>\n",
       "    </tr>\n",
       "  </thead>\n",
       "  <tbody>\n",
       "    <tr>\n",
       "      <th>0</th>\n",
       "      <td>USW00013743</td>\n",
       "      <td>WASHINGTON REAGAN NATIONAL AIRPORT, VA US</td>\n",
       "      <td>2017-01-01</td>\n",
       "      <td>4.25</td>\n",
       "      <td>,,W</td>\n",
       "      <td>0.00</td>\n",
       "      <td>,,W,2400</td>\n",
       "      <td>0.0</td>\n",
       "      <td>,,W,2400</td>\n",
       "      <td>0</td>\n",
       "      <td>...</td>\n",
       "      <td>NaN</td>\n",
       "      <td>NaN</td>\n",
       "      <td>NaN</td>\n",
       "      <td>NaN</td>\n",
       "      <td>NaN</td>\n",
       "      <td>NaN</td>\n",
       "      <td>NaN</td>\n",
       "      <td>NaN</td>\n",
       "      <td>NaN</td>\n",
       "      <td>NaN</td>\n",
       "    </tr>\n",
       "    <tr>\n",
       "      <th>1</th>\n",
       "      <td>USW00013743</td>\n",
       "      <td>WASHINGTON REAGAN NATIONAL AIRPORT, VA US</td>\n",
       "      <td>2017-01-02</td>\n",
       "      <td>7.83</td>\n",
       "      <td>,,W</td>\n",
       "      <td>0.35</td>\n",
       "      <td>,,W,2400</td>\n",
       "      <td>0.0</td>\n",
       "      <td>,,W,2400</td>\n",
       "      <td>0</td>\n",
       "      <td>...</td>\n",
       "      <td>NaN</td>\n",
       "      <td>NaN</td>\n",
       "      <td>NaN</td>\n",
       "      <td>NaN</td>\n",
       "      <td>NaN</td>\n",
       "      <td>NaN</td>\n",
       "      <td>NaN</td>\n",
       "      <td>NaN</td>\n",
       "      <td>NaN</td>\n",
       "      <td>NaN</td>\n",
       "    </tr>\n",
       "    <tr>\n",
       "      <th>2</th>\n",
       "      <td>USW00013743</td>\n",
       "      <td>WASHINGTON REAGAN NATIONAL AIRPORT, VA US</td>\n",
       "      <td>2017-01-03</td>\n",
       "      <td>5.82</td>\n",
       "      <td>,,W</td>\n",
       "      <td>0.86</td>\n",
       "      <td>,,W,2400</td>\n",
       "      <td>0.0</td>\n",
       "      <td>,,W,2400</td>\n",
       "      <td>0</td>\n",
       "      <td>...</td>\n",
       "      <td>NaN</td>\n",
       "      <td>NaN</td>\n",
       "      <td>NaN</td>\n",
       "      <td>NaN</td>\n",
       "      <td>NaN</td>\n",
       "      <td>NaN</td>\n",
       "      <td>NaN</td>\n",
       "      <td>NaN</td>\n",
       "      <td>NaN</td>\n",
       "      <td>NaN</td>\n",
       "    </tr>\n",
       "    <tr>\n",
       "      <th>3</th>\n",
       "      <td>USW00013743</td>\n",
       "      <td>WASHINGTON REAGAN NATIONAL AIRPORT, VA US</td>\n",
       "      <td>2017-01-04</td>\n",
       "      <td>9.84</td>\n",
       "      <td>,,W</td>\n",
       "      <td>0.00</td>\n",
       "      <td>T,,W,2400</td>\n",
       "      <td>0.0</td>\n",
       "      <td>,,W,2400</td>\n",
       "      <td>0</td>\n",
       "      <td>...</td>\n",
       "      <td>NaN</td>\n",
       "      <td>NaN</td>\n",
       "      <td>NaN</td>\n",
       "      <td>NaN</td>\n",
       "      <td>NaN</td>\n",
       "      <td>NaN</td>\n",
       "      <td>NaN</td>\n",
       "      <td>NaN</td>\n",
       "      <td>NaN</td>\n",
       "      <td>NaN</td>\n",
       "    </tr>\n",
       "    <tr>\n",
       "      <th>4</th>\n",
       "      <td>USW00013743</td>\n",
       "      <td>WASHINGTON REAGAN NATIONAL AIRPORT, VA US</td>\n",
       "      <td>2017-01-05</td>\n",
       "      <td>6.49</td>\n",
       "      <td>,,W</td>\n",
       "      <td>0.00</td>\n",
       "      <td>T,,W,2400</td>\n",
       "      <td>0.0</td>\n",
       "      <td>T,,W,2400</td>\n",
       "      <td>0</td>\n",
       "      <td>...</td>\n",
       "      <td>NaN</td>\n",
       "      <td>NaN</td>\n",
       "      <td>NaN</td>\n",
       "      <td>NaN</td>\n",
       "      <td>NaN</td>\n",
       "      <td>NaN</td>\n",
       "      <td>NaN</td>\n",
       "      <td>NaN</td>\n",
       "      <td>NaN</td>\n",
       "      <td>NaN</td>\n",
       "    </tr>\n",
       "  </tbody>\n",
       "</table>\n",
       "<p>5 rows × 41 columns</p>\n",
       "</div>"
      ],
      "text/plain": [
       "       STATION                                       NAME        DATE  AWND  \\\n",
       "0  USW00013743  WASHINGTON REAGAN NATIONAL AIRPORT, VA US  2017-01-01  4.25   \n",
       "1  USW00013743  WASHINGTON REAGAN NATIONAL AIRPORT, VA US  2017-01-02  7.83   \n",
       "2  USW00013743  WASHINGTON REAGAN NATIONAL AIRPORT, VA US  2017-01-03  5.82   \n",
       "3  USW00013743  WASHINGTON REAGAN NATIONAL AIRPORT, VA US  2017-01-04  9.84   \n",
       "4  USW00013743  WASHINGTON REAGAN NATIONAL AIRPORT, VA US  2017-01-05  6.49   \n",
       "\n",
       "  AWND_ATTRIBUTES  PRCP PRCP_ATTRIBUTES  SNOW SNOW_ATTRIBUTES  SNWD  \\\n",
       "0             ,,W  0.00        ,,W,2400   0.0        ,,W,2400     0   \n",
       "1             ,,W  0.35        ,,W,2400   0.0        ,,W,2400     0   \n",
       "2             ,,W  0.86        ,,W,2400   0.0        ,,W,2400     0   \n",
       "3             ,,W  0.00       T,,W,2400   0.0        ,,W,2400     0   \n",
       "4             ,,W  0.00       T,,W,2400   0.0       T,,W,2400     0   \n",
       "\n",
       "        ...        WT03  WT03_ATTRIBUTES WT04  WT04_ATTRIBUTES WT06  \\\n",
       "0       ...         NaN              NaN  NaN              NaN  NaN   \n",
       "1       ...         NaN              NaN  NaN              NaN  NaN   \n",
       "2       ...         NaN              NaN  NaN              NaN  NaN   \n",
       "3       ...         NaN              NaN  NaN              NaN  NaN   \n",
       "4       ...         NaN              NaN  NaN              NaN  NaN   \n",
       "\n",
       "   WT06_ATTRIBUTES WT08  WT08_ATTRIBUTES WT09  WT09_ATTRIBUTES  \n",
       "0              NaN  NaN              NaN  NaN              NaN  \n",
       "1              NaN  NaN              NaN  NaN              NaN  \n",
       "2              NaN  NaN              NaN  NaN              NaN  \n",
       "3              NaN  NaN              NaN  NaN              NaN  \n",
       "4              NaN  NaN              NaN  NaN              NaN  \n",
       "\n",
       "[5 rows x 41 columns]"
      ]
     },
     "execution_count": 32,
     "metadata": {},
     "output_type": "execute_result"
    }
   ],
   "source": [
    "# print the first few rows of the weather data\n",
    "df.head()\n"
   ]
  },
  {
   "cell_type": "code",
   "execution_count": 33,
   "metadata": {},
   "outputs": [
    {
     "data": {
      "text/plain": [
       "(90, 41)"
      ]
     },
     "execution_count": 33,
     "metadata": {},
     "output_type": "execute_result"
    }
   ],
   "source": [
    "# print column and row dimensions for the weather data\n",
    "df.shape"
   ]
  },
  {
   "cell_type": "code",
   "execution_count": 34,
   "metadata": {},
   "outputs": [],
   "source": [
    "# practice slicing weather data\n",
    "# create a new data frame that has only the date (DATE) and the amount of precipitation (PRCP)\n",
    "# make sure you save this slice to a new object (e.g. ndf)\n",
    "ndf = df[[\"DATE\",\"PRCP\"]]"
   ]
  },
  {
   "cell_type": "code",
   "execution_count": 35,
   "metadata": {},
   "outputs": [],
   "source": [
    "# save the slice of your weather data frame with only date and precipitation to file\n",
    "# make sure to call this file something else so you don't overwrite your original weather data\n",
    "ndf.to_csv(\"NewWeatherData.csv\")"
   ]
  },
  {
   "cell_type": "markdown",
   "metadata": {},
   "source": [
    "## Read in trip data"
   ]
  },
  {
   "cell_type": "code",
   "execution_count": 36,
   "metadata": {},
   "outputs": [],
   "source": [
    "# read in trip data (TripData.csv)\n",
    "trip = pd.read_csv(\"TripData.csv\")"
   ]
  },
  {
   "cell_type": "code",
   "execution_count": 37,
   "metadata": {},
   "outputs": [
    {
     "data": {
      "text/html": [
       "<div>\n",
       "<style scoped>\n",
       "    .dataframe tbody tr th:only-of-type {\n",
       "        vertical-align: middle;\n",
       "    }\n",
       "\n",
       "    .dataframe tbody tr th {\n",
       "        vertical-align: top;\n",
       "    }\n",
       "\n",
       "    .dataframe thead th {\n",
       "        text-align: right;\n",
       "    }\n",
       "</style>\n",
       "<table border=\"1\" class=\"dataframe\">\n",
       "  <thead>\n",
       "    <tr style=\"text-align: right;\">\n",
       "      <th></th>\n",
       "      <th>Duration</th>\n",
       "      <th>Start date</th>\n",
       "      <th>End date</th>\n",
       "      <th>Start station number</th>\n",
       "      <th>Start station</th>\n",
       "      <th>End station number</th>\n",
       "      <th>End station</th>\n",
       "      <th>Bike number</th>\n",
       "      <th>Member Type</th>\n",
       "    </tr>\n",
       "  </thead>\n",
       "  <tbody>\n",
       "    <tr>\n",
       "      <th>0</th>\n",
       "      <td>1048876</td>\n",
       "      <td>3/31/2017 23:59</td>\n",
       "      <td>4/1/2017 0:17</td>\n",
       "      <td>31213</td>\n",
       "      <td>17th &amp; K St NW</td>\n",
       "      <td>31606</td>\n",
       "      <td>Potomac &amp; Pennsylvania Ave SE</td>\n",
       "      <td>W20784</td>\n",
       "      <td>Registered</td>\n",
       "    </tr>\n",
       "    <tr>\n",
       "      <th>1</th>\n",
       "      <td>223449</td>\n",
       "      <td>3/31/2017 23:59</td>\n",
       "      <td>4/1/2017 0:03</td>\n",
       "      <td>31104</td>\n",
       "      <td>Adams Mill &amp; Columbia Rd NW</td>\n",
       "      <td>31103</td>\n",
       "      <td>16th &amp; Harvard St NW</td>\n",
       "      <td>W20825</td>\n",
       "      <td>Registered</td>\n",
       "    </tr>\n",
       "    <tr>\n",
       "      <th>2</th>\n",
       "      <td>423494</td>\n",
       "      <td>3/31/2017 23:58</td>\n",
       "      <td>4/1/2017 0:05</td>\n",
       "      <td>31627</td>\n",
       "      <td>M St &amp; Delaware Ave NE</td>\n",
       "      <td>31614</td>\n",
       "      <td>11th &amp; H St NE</td>\n",
       "      <td>W20773</td>\n",
       "      <td>Registered</td>\n",
       "    </tr>\n",
       "    <tr>\n",
       "      <th>3</th>\n",
       "      <td>687015</td>\n",
       "      <td>3/31/2017 23:57</td>\n",
       "      <td>4/1/2017 0:08</td>\n",
       "      <td>31404</td>\n",
       "      <td>9th &amp; Upshur St NW</td>\n",
       "      <td>31281</td>\n",
       "      <td>8th &amp; O St NW</td>\n",
       "      <td>W01307</td>\n",
       "      <td>Registered</td>\n",
       "    </tr>\n",
       "    <tr>\n",
       "      <th>4</th>\n",
       "      <td>257919</td>\n",
       "      <td>3/31/2017 23:57</td>\n",
       "      <td>4/1/2017 0:02</td>\n",
       "      <td>31602</td>\n",
       "      <td>Park Rd &amp; Holmead Pl NW</td>\n",
       "      <td>31400</td>\n",
       "      <td>Georgia &amp; New Hampshire Ave NW</td>\n",
       "      <td>W21760</td>\n",
       "      <td>Registered</td>\n",
       "    </tr>\n",
       "  </tbody>\n",
       "</table>\n",
       "</div>"
      ],
      "text/plain": [
       "   Duration       Start date       End date  Start station number  \\\n",
       "0   1048876  3/31/2017 23:59  4/1/2017 0:17                 31213   \n",
       "1    223449  3/31/2017 23:59  4/1/2017 0:03                 31104   \n",
       "2    423494  3/31/2017 23:58  4/1/2017 0:05                 31627   \n",
       "3    687015  3/31/2017 23:57  4/1/2017 0:08                 31404   \n",
       "4    257919  3/31/2017 23:57  4/1/2017 0:02                 31602   \n",
       "\n",
       "                 Start station  End station number  \\\n",
       "0               17th & K St NW               31606   \n",
       "1  Adams Mill & Columbia Rd NW               31103   \n",
       "2       M St & Delaware Ave NE               31614   \n",
       "3           9th & Upshur St NW               31281   \n",
       "4      Park Rd & Holmead Pl NW               31400   \n",
       "\n",
       "                      End station Bike number Member Type  \n",
       "0   Potomac & Pennsylvania Ave SE      W20784  Registered  \n",
       "1            16th & Harvard St NW      W20825  Registered  \n",
       "2                  11th & H St NE      W20773  Registered  \n",
       "3                   8th & O St NW      W01307  Registered  \n",
       "4  Georgia & New Hampshire Ave NW      W21760  Registered  "
      ]
     },
     "execution_count": 37,
     "metadata": {},
     "output_type": "execute_result"
    }
   ],
   "source": [
    "# print the first few rows of the trip data\n",
    "trip.head()"
   ]
  },
  {
   "cell_type": "code",
   "execution_count": 38,
   "metadata": {},
   "outputs": [
    {
     "data": {
      "text/plain": [
       "(646508, 9)"
      ]
     },
     "execution_count": 38,
     "metadata": {},
     "output_type": "execute_result"
    }
   ],
   "source": [
    "# print the dimensions of the trip data\n",
    "trip.shape"
   ]
  },
  {
   "cell_type": "code",
   "execution_count": 39,
   "metadata": {},
   "outputs": [],
   "source": [
    "# practice slicing the trip data\n",
    "# create a new data frame with only the start date (Start date) and the duration (Duration)\n",
    "ntrip = trip[[\"Start date\", \"Duration\"]]"
   ]
  },
  {
   "cell_type": "code",
   "execution_count": 40,
   "metadata": {},
   "outputs": [],
   "source": [
    "# write to the new trip data frame with only the start date and duration to file\n",
    "ntrip.to_csv(\"NewTripData.csv\")"
   ]
  },
  {
   "cell_type": "markdown",
   "metadata": {},
   "source": [
    "## Create day of the week data frame"
   ]
  },
  {
   "cell_type": "code",
   "execution_count": 42,
   "metadata": {},
   "outputs": [],
   "source": [
    "# you can create a new data frame using dictionaries and lists\n",
    "# create a dictionary with two keys \"date\" and \"dayofweek\"\n",
    "# the date value should be a list of 7 dates from 2017-01-01 to 2017-01-07\"\n",
    "# the dayofweek value should a list of 7 days of the week starting with Sunday in order (e.g. Sunday, Monday, Tuesday ...)\n",
    "# the dictionary should be of the format:\n",
    "# mydict = {'colname1':['list','of','values','in','order'],'colname2':['list','of','values','same','order']}\n",
    "mydict = {\"date\":['2017-01-01','2017-01-02','2017-01-03','2017-01-04','2017-01-05','2017-01-06','2017-01-07'],\n",
    "         \"dayofweek\":['Sunday','Monday','Tuesday','Wednesday','Thursday','Friday','Saturday']}"
   ]
  },
  {
   "cell_type": "code",
   "execution_count": 43,
   "metadata": {},
   "outputs": [],
   "source": [
    "# turn this dictionary into a data frame\n",
    "fdf = pd.DataFrame(mydict)"
   ]
  },
  {
   "cell_type": "code",
   "execution_count": 44,
   "metadata": {},
   "outputs": [
    {
     "data": {
      "text/html": [
       "<div>\n",
       "<style scoped>\n",
       "    .dataframe tbody tr th:only-of-type {\n",
       "        vertical-align: middle;\n",
       "    }\n",
       "\n",
       "    .dataframe tbody tr th {\n",
       "        vertical-align: top;\n",
       "    }\n",
       "\n",
       "    .dataframe thead th {\n",
       "        text-align: right;\n",
       "    }\n",
       "</style>\n",
       "<table border=\"1\" class=\"dataframe\">\n",
       "  <thead>\n",
       "    <tr style=\"text-align: right;\">\n",
       "      <th></th>\n",
       "      <th>date</th>\n",
       "      <th>dayofweek</th>\n",
       "    </tr>\n",
       "  </thead>\n",
       "  <tbody>\n",
       "    <tr>\n",
       "      <th>0</th>\n",
       "      <td>2017-01-01</td>\n",
       "      <td>Sunday</td>\n",
       "    </tr>\n",
       "    <tr>\n",
       "      <th>1</th>\n",
       "      <td>2017-01-02</td>\n",
       "      <td>Monday</td>\n",
       "    </tr>\n",
       "    <tr>\n",
       "      <th>2</th>\n",
       "      <td>2017-01-03</td>\n",
       "      <td>Tuesday</td>\n",
       "    </tr>\n",
       "    <tr>\n",
       "      <th>3</th>\n",
       "      <td>2017-01-04</td>\n",
       "      <td>Wednesday</td>\n",
       "    </tr>\n",
       "    <tr>\n",
       "      <th>4</th>\n",
       "      <td>2017-01-05</td>\n",
       "      <td>Thursday</td>\n",
       "    </tr>\n",
       "  </tbody>\n",
       "</table>\n",
       "</div>"
      ],
      "text/plain": [
       "         date  dayofweek\n",
       "0  2017-01-01     Sunday\n",
       "1  2017-01-02     Monday\n",
       "2  2017-01-03    Tuesday\n",
       "3  2017-01-04  Wednesday\n",
       "4  2017-01-05   Thursday"
      ]
     },
     "execution_count": 44,
     "metadata": {},
     "output_type": "execute_result"
    }
   ],
   "source": [
    "# print the first few rows of the data frame\n",
    "fdf.head()"
   ]
  },
  {
   "cell_type": "code",
   "execution_count": 45,
   "metadata": {},
   "outputs": [
    {
     "data": {
      "text/plain": [
       "(7, 2)"
      ]
     },
     "execution_count": 45,
     "metadata": {},
     "output_type": "execute_result"
    }
   ],
   "source": [
    "# print the dimensions of the data frame\n",
    "fdf.shape"
   ]
  },
  {
   "cell_type": "code",
   "execution_count": 46,
   "metadata": {},
   "outputs": [],
   "source": [
    "# write this data frame to file\n",
    "fdf.to_csv(\"DateDictionary.csv\")"
   ]
  },
  {
   "cell_type": "markdown",
   "metadata": {},
   "source": [
    "# Part C: Summarizing Data     "
   ]
  },
  {
   "cell_type": "markdown",
   "metadata": {},
   "source": [
    "## Summarize weather data"
   ]
  },
  {
   "cell_type": "code",
   "execution_count": 47,
   "metadata": {},
   "outputs": [
    {
     "data": {
      "text/plain": [
       "STATION            90\n",
       "NAME               90\n",
       "DATE               90\n",
       "AWND               90\n",
       "AWND_ATTRIBUTES    90\n",
       "PRCP               90\n",
       "PRCP_ATTRIBUTES    90\n",
       "SNOW               90\n",
       "SNOW_ATTRIBUTES    90\n",
       "SNWD               90\n",
       "SNWD_ATTRIBUTES    90\n",
       "TAVG               90\n",
       "TAVG_ATTRIBUTES    90\n",
       "TMAX               90\n",
       "TMAX_ATTRIBUTES    90\n",
       "TMIN               90\n",
       "TMIN_ATTRIBUTES    90\n",
       "WDF2               90\n",
       "WDF2_ATTRIBUTES    90\n",
       "WDF5               90\n",
       "WDF5_ATTRIBUTES    90\n",
       "WESD                0\n",
       "WESD_ATTRIBUTES     0\n",
       "WSF2               90\n",
       "WSF2_ATTRIBUTES    90\n",
       "WSF5               90\n",
       "WSF5_ATTRIBUTES    90\n",
       "WT01               27\n",
       "WT01_ATTRIBUTES    27\n",
       "WT02                6\n",
       "WT02_ATTRIBUTES     6\n",
       "WT03                2\n",
       "WT03_ATTRIBUTES     2\n",
       "WT04                3\n",
       "WT04_ATTRIBUTES     3\n",
       "WT06                2\n",
       "WT06_ATTRIBUTES     2\n",
       "WT08                5\n",
       "WT08_ATTRIBUTES     5\n",
       "WT09                0\n",
       "WT09_ATTRIBUTES     0\n",
       "dtype: int64"
      ]
     },
     "execution_count": 47,
     "metadata": {},
     "output_type": "execute_result"
    }
   ],
   "source": [
    "# get a count of the number of non-missing values for weather columns using the count method\n",
    "df.count()\n"
   ]
  },
  {
   "cell_type": "code",
   "execution_count": 49,
   "metadata": {},
   "outputs": [
    {
     "data": {
      "text/plain": [
       "WASHINGTON REAGAN NATIONAL AIRPORT, VA US    90\n",
       "Name: NAME, dtype: int64"
      ]
     },
     "execution_count": 49,
     "metadata": {},
     "output_type": "execute_result"
    }
   ],
   "source": [
    "# get the frequency distribution for name (NAME) using the value_counts method\n",
    "df[\"NAME\"].value_counts()\n"
   ]
  },
  {
   "cell_type": "code",
   "execution_count": 55,
   "metadata": {},
   "outputs": [
    {
     "data": {
      "text/html": [
       "<div>\n",
       "<style scoped>\n",
       "    .dataframe tbody tr th:only-of-type {\n",
       "        vertical-align: middle;\n",
       "    }\n",
       "\n",
       "    .dataframe tbody tr th {\n",
       "        vertical-align: top;\n",
       "    }\n",
       "\n",
       "    .dataframe thead th {\n",
       "        text-align: right;\n",
       "    }\n",
       "</style>\n",
       "<table border=\"1\" class=\"dataframe\">\n",
       "  <thead>\n",
       "    <tr style=\"text-align: right;\">\n",
       "      <th></th>\n",
       "      <th>AWND</th>\n",
       "      <th>PRCP</th>\n",
       "      <th>SNOW</th>\n",
       "      <th>SNWD</th>\n",
       "      <th>TAVG</th>\n",
       "      <th>TMAX</th>\n",
       "      <th>TMIN</th>\n",
       "      <th>WDF2</th>\n",
       "      <th>WDF5</th>\n",
       "      <th>WESD</th>\n",
       "      <th>...</th>\n",
       "      <th>WSF2</th>\n",
       "      <th>WSF5</th>\n",
       "      <th>WT01</th>\n",
       "      <th>WT02</th>\n",
       "      <th>WT03</th>\n",
       "      <th>WT04</th>\n",
       "      <th>WT06</th>\n",
       "      <th>WT08</th>\n",
       "      <th>WT09</th>\n",
       "      <th>WT09_ATTRIBUTES</th>\n",
       "    </tr>\n",
       "  </thead>\n",
       "  <tbody>\n",
       "    <tr>\n",
       "      <th>count</th>\n",
       "      <td>90.000000</td>\n",
       "      <td>90.000000</td>\n",
       "      <td>90.000000</td>\n",
       "      <td>90.000000</td>\n",
       "      <td>90.000000</td>\n",
       "      <td>90.000000</td>\n",
       "      <td>90.000000</td>\n",
       "      <td>90.000000</td>\n",
       "      <td>90.000000</td>\n",
       "      <td>0.0</td>\n",
       "      <td>...</td>\n",
       "      <td>90.000000</td>\n",
       "      <td>90.000000</td>\n",
       "      <td>27.0</td>\n",
       "      <td>6.0</td>\n",
       "      <td>2.0</td>\n",
       "      <td>3.0</td>\n",
       "      <td>2.0</td>\n",
       "      <td>5.0</td>\n",
       "      <td>0.0</td>\n",
       "      <td>0.0</td>\n",
       "    </tr>\n",
       "    <tr>\n",
       "      <th>mean</th>\n",
       "      <td>10.165111</td>\n",
       "      <td>0.073556</td>\n",
       "      <td>0.037778</td>\n",
       "      <td>0.055556</td>\n",
       "      <td>45.122222</td>\n",
       "      <td>54.111111</td>\n",
       "      <td>37.122222</td>\n",
       "      <td>235.777778</td>\n",
       "      <td>238.666667</td>\n",
       "      <td>NaN</td>\n",
       "      <td>...</td>\n",
       "      <td>21.915556</td>\n",
       "      <td>28.131111</td>\n",
       "      <td>1.0</td>\n",
       "      <td>1.0</td>\n",
       "      <td>1.0</td>\n",
       "      <td>1.0</td>\n",
       "      <td>1.0</td>\n",
       "      <td>1.0</td>\n",
       "      <td>NaN</td>\n",
       "      <td>NaN</td>\n",
       "    </tr>\n",
       "    <tr>\n",
       "      <th>std</th>\n",
       "      <td>4.222339</td>\n",
       "      <td>0.190046</td>\n",
       "      <td>0.185168</td>\n",
       "      <td>0.274828</td>\n",
       "      <td>10.125979</td>\n",
       "      <td>12.386514</td>\n",
       "      <td>9.478335</td>\n",
       "      <td>98.630827</td>\n",
       "      <td>97.349134</td>\n",
       "      <td>NaN</td>\n",
       "      <td>...</td>\n",
       "      <td>7.819666</td>\n",
       "      <td>10.936740</td>\n",
       "      <td>0.0</td>\n",
       "      <td>0.0</td>\n",
       "      <td>0.0</td>\n",
       "      <td>0.0</td>\n",
       "      <td>0.0</td>\n",
       "      <td>0.0</td>\n",
       "      <td>NaN</td>\n",
       "      <td>NaN</td>\n",
       "    </tr>\n",
       "    <tr>\n",
       "      <th>min</th>\n",
       "      <td>3.580000</td>\n",
       "      <td>0.000000</td>\n",
       "      <td>0.000000</td>\n",
       "      <td>0.000000</td>\n",
       "      <td>20.000000</td>\n",
       "      <td>25.000000</td>\n",
       "      <td>15.000000</td>\n",
       "      <td>10.000000</td>\n",
       "      <td>10.000000</td>\n",
       "      <td>NaN</td>\n",
       "      <td>...</td>\n",
       "      <td>8.900000</td>\n",
       "      <td>12.100000</td>\n",
       "      <td>1.0</td>\n",
       "      <td>1.0</td>\n",
       "      <td>1.0</td>\n",
       "      <td>1.0</td>\n",
       "      <td>1.0</td>\n",
       "      <td>1.0</td>\n",
       "      <td>NaN</td>\n",
       "      <td>NaN</td>\n",
       "    </tr>\n",
       "    <tr>\n",
       "      <th>25%</th>\n",
       "      <td>6.765000</td>\n",
       "      <td>0.000000</td>\n",
       "      <td>0.000000</td>\n",
       "      <td>0.000000</td>\n",
       "      <td>39.000000</td>\n",
       "      <td>46.000000</td>\n",
       "      <td>30.000000</td>\n",
       "      <td>190.000000</td>\n",
       "      <td>190.000000</td>\n",
       "      <td>NaN</td>\n",
       "      <td>...</td>\n",
       "      <td>16.100000</td>\n",
       "      <td>19.225000</td>\n",
       "      <td>1.0</td>\n",
       "      <td>1.0</td>\n",
       "      <td>1.0</td>\n",
       "      <td>1.0</td>\n",
       "      <td>1.0</td>\n",
       "      <td>1.0</td>\n",
       "      <td>NaN</td>\n",
       "      <td>NaN</td>\n",
       "    </tr>\n",
       "    <tr>\n",
       "      <th>50%</th>\n",
       "      <td>9.510000</td>\n",
       "      <td>0.000000</td>\n",
       "      <td>0.000000</td>\n",
       "      <td>0.000000</td>\n",
       "      <td>44.500000</td>\n",
       "      <td>53.500000</td>\n",
       "      <td>36.500000</td>\n",
       "      <td>270.000000</td>\n",
       "      <td>270.000000</td>\n",
       "      <td>NaN</td>\n",
       "      <td>...</td>\n",
       "      <td>21.000000</td>\n",
       "      <td>25.100000</td>\n",
       "      <td>1.0</td>\n",
       "      <td>1.0</td>\n",
       "      <td>1.0</td>\n",
       "      <td>1.0</td>\n",
       "      <td>1.0</td>\n",
       "      <td>1.0</td>\n",
       "      <td>NaN</td>\n",
       "      <td>NaN</td>\n",
       "    </tr>\n",
       "    <tr>\n",
       "      <th>75%</th>\n",
       "      <td>12.472500</td>\n",
       "      <td>0.020000</td>\n",
       "      <td>0.000000</td>\n",
       "      <td>0.000000</td>\n",
       "      <td>51.750000</td>\n",
       "      <td>61.750000</td>\n",
       "      <td>45.000000</td>\n",
       "      <td>320.000000</td>\n",
       "      <td>320.000000</td>\n",
       "      <td>NaN</td>\n",
       "      <td>...</td>\n",
       "      <td>25.900000</td>\n",
       "      <td>34.825000</td>\n",
       "      <td>1.0</td>\n",
       "      <td>1.0</td>\n",
       "      <td>1.0</td>\n",
       "      <td>1.0</td>\n",
       "      <td>1.0</td>\n",
       "      <td>1.0</td>\n",
       "      <td>NaN</td>\n",
       "      <td>NaN</td>\n",
       "    </tr>\n",
       "    <tr>\n",
       "      <th>max</th>\n",
       "      <td>21.920000</td>\n",
       "      <td>0.960000</td>\n",
       "      <td>1.100000</td>\n",
       "      <td>2.000000</td>\n",
       "      <td>65.000000</td>\n",
       "      <td>80.000000</td>\n",
       "      <td>57.000000</td>\n",
       "      <td>360.000000</td>\n",
       "      <td>350.000000</td>\n",
       "      <td>NaN</td>\n",
       "      <td>...</td>\n",
       "      <td>52.100000</td>\n",
       "      <td>66.000000</td>\n",
       "      <td>1.0</td>\n",
       "      <td>1.0</td>\n",
       "      <td>1.0</td>\n",
       "      <td>1.0</td>\n",
       "      <td>1.0</td>\n",
       "      <td>1.0</td>\n",
       "      <td>NaN</td>\n",
       "      <td>NaN</td>\n",
       "    </tr>\n",
       "  </tbody>\n",
       "</table>\n",
       "<p>8 rows × 21 columns</p>\n",
       "</div>"
      ],
      "text/plain": [
       "            AWND       PRCP       SNOW       SNWD       TAVG       TMAX  \\\n",
       "count  90.000000  90.000000  90.000000  90.000000  90.000000  90.000000   \n",
       "mean   10.165111   0.073556   0.037778   0.055556  45.122222  54.111111   \n",
       "std     4.222339   0.190046   0.185168   0.274828  10.125979  12.386514   \n",
       "min     3.580000   0.000000   0.000000   0.000000  20.000000  25.000000   \n",
       "25%     6.765000   0.000000   0.000000   0.000000  39.000000  46.000000   \n",
       "50%     9.510000   0.000000   0.000000   0.000000  44.500000  53.500000   \n",
       "75%    12.472500   0.020000   0.000000   0.000000  51.750000  61.750000   \n",
       "max    21.920000   0.960000   1.100000   2.000000  65.000000  80.000000   \n",
       "\n",
       "            TMIN        WDF2        WDF5  WESD       ...              WSF2  \\\n",
       "count  90.000000   90.000000   90.000000   0.0       ...         90.000000   \n",
       "mean   37.122222  235.777778  238.666667   NaN       ...         21.915556   \n",
       "std     9.478335   98.630827   97.349134   NaN       ...          7.819666   \n",
       "min    15.000000   10.000000   10.000000   NaN       ...          8.900000   \n",
       "25%    30.000000  190.000000  190.000000   NaN       ...         16.100000   \n",
       "50%    36.500000  270.000000  270.000000   NaN       ...         21.000000   \n",
       "75%    45.000000  320.000000  320.000000   NaN       ...         25.900000   \n",
       "max    57.000000  360.000000  350.000000   NaN       ...         52.100000   \n",
       "\n",
       "            WSF5  WT01  WT02  WT03  WT04  WT06  WT08  WT09  WT09_ATTRIBUTES  \n",
       "count  90.000000  27.0   6.0   2.0   3.0   2.0   5.0   0.0              0.0  \n",
       "mean   28.131111   1.0   1.0   1.0   1.0   1.0   1.0   NaN              NaN  \n",
       "std    10.936740   0.0   0.0   0.0   0.0   0.0   0.0   NaN              NaN  \n",
       "min    12.100000   1.0   1.0   1.0   1.0   1.0   1.0   NaN              NaN  \n",
       "25%    19.225000   1.0   1.0   1.0   1.0   1.0   1.0   NaN              NaN  \n",
       "50%    25.100000   1.0   1.0   1.0   1.0   1.0   1.0   NaN              NaN  \n",
       "75%    34.825000   1.0   1.0   1.0   1.0   1.0   1.0   NaN              NaN  \n",
       "max    66.000000   1.0   1.0   1.0   1.0   1.0   1.0   NaN              NaN  \n",
       "\n",
       "[8 rows x 21 columns]"
      ]
     },
     "execution_count": 55,
     "metadata": {},
     "output_type": "execute_result"
    }
   ],
   "source": [
    "# get descriptive statistics for the weather data set\n",
    "df.describe()"
   ]
  },
  {
   "cell_type": "code",
   "execution_count": 52,
   "metadata": {},
   "outputs": [
    {
     "data": {
      "text/plain": [
       "6.62"
      ]
     },
     "execution_count": 52,
     "metadata": {},
     "output_type": "execute_result"
    }
   ],
   "source": [
    "# get the sum of total precipitation (PRCP) during this time period using the sum function\n",
    "df[\"PRCP\"].sum()"
   ]
  },
  {
   "cell_type": "markdown",
   "metadata": {},
   "source": [
    "## Summarize trip data"
   ]
  },
  {
   "cell_type": "code",
   "execution_count": 53,
   "metadata": {},
   "outputs": [
    {
     "data": {
      "text/plain": [
       "Duration                646508\n",
       "Start date              646508\n",
       "End date                646508\n",
       "Start station number    646508\n",
       "Start station           646508\n",
       "End station number      646508\n",
       "End station             646508\n",
       "Bike number             646508\n",
       "Member Type             646508\n",
       "dtype: int64"
      ]
     },
     "execution_count": 53,
     "metadata": {},
     "output_type": "execute_result"
    }
   ],
   "source": [
    "# get a count of number of non-missing values for trip data using the count method\n",
    "trip.count()"
   ]
  },
  {
   "cell_type": "code",
   "execution_count": 54,
   "metadata": {},
   "outputs": [
    {
     "data": {
      "text/plain": [
       "Columbus Circle / Union Station                          13712\n",
       "Massachusetts Ave & Dupont Circle NW                      9071\n",
       "15th & P St NW                                            8195\n",
       "Jefferson Dr & 14th St SW                                 8026\n",
       "Lincoln Memorial                                          7876\n",
       "Thomas Circle                                             7211\n",
       "New Hampshire Ave & T St NW                               6606\n",
       "14th & V St NW                                            6563\n",
       "Eastern Market Metro / Pennsylvania Ave & 7th St SE       5907\n",
       "5th & K St NW                                             5846\n",
       "1st & M St NE                                             5777\n",
       "Jefferson Memorial                                        5707\n",
       "North Capitol St & F St NW                                5506\n",
       "14th & Rhode Island Ave NW                                5369\n",
       "Smithsonian-National Mall / Jefferson Dr & 12th St SW     5364\n",
       "17th & Corcoran St NW                                     5326\n",
       "4th St & Madison Dr NW                                    5010\n",
       "Adams Mill & Columbia Rd NW                               4904\n",
       "8th & O St NW                                             4881\n",
       "14th & R St NW                                            4845\n",
       "8th & H St NW                                             4757\n",
       "Henry Bacon Dr & Lincoln Memorial Circle NW               4743\n",
       "5th St & Massachusetts Ave NW                             4690\n",
       "21st & M St NW                                            4627\n",
       "14th & Irving St NW                                       4567\n",
       "New York Ave & 15th St NW                                 4558\n",
       "20th St & Florida Ave NW                                  4553\n",
       "17th St & Massachusetts Ave NW                            4533\n",
       "7th & T St NW                                             4501\n",
       "18th & R St NW                                            4446\n",
       "                                                         ...  \n",
       "South Capitol & Atlantic St SW                              32\n",
       "18th & Monroe St NE                                         31\n",
       "Randle Circle & Minnesota Ave SE                            29\n",
       "Jones Branch & Westbranch Dr                                29\n",
       "Nannie Helen Burroughs & Minnesota Ave NE                   28\n",
       "Westpark Dr & Leesburg Pike                                 26\n",
       "Amherst Ave & Prichard Rd                                   25\n",
       "Spring Hill Metro                                           25\n",
       "Fallsgrove Dr & W Montgomery Ave                            24\n",
       "Tysons West Transit Center                                  24\n",
       "North Shore Dr & Village Rd                                 23\n",
       "S Oakland St & Columbia Pike                                22\n",
       "Windham Ln & Amherst Ave                                    22\n",
       "Reston YMCA                                                 22\n",
       "Division Ave & Foote St NE                                  21\n",
       "Medical Center Dr & Key West Ave                            20\n",
       "North Shore & Cameron Crescent Dr/Crescent Apartments       20\n",
       "Greensboro & International Dr                               18\n",
       "Takoma Park Rec Center                                      17\n",
       "Solutions & Greensboro Dr                                   17\n",
       "Town Center Pkwy & Bowman Towne Dr                          16\n",
       "Towers Crescent Dr & Tysons One Pl                          16\n",
       "Shady Grove Hospital                                        14\n",
       "61st St & Banks Pl NE                                       12\n",
       "New Hampshire & Kirklynn Ave                                12\n",
       "Taft St & E Gude Dr                                          9\n",
       "Traville Gateway Dr & Gudelsky Dr                            7\n",
       "Deanwood Rec Center                                          3\n",
       "Broschart & Blackwell Rd                                     3\n",
       "Reston Regional Library                                      3\n",
       "Name: Start station, Length: 452, dtype: int64"
      ]
     },
     "execution_count": 54,
     "metadata": {},
     "output_type": "execute_result"
    }
   ],
   "source": [
    "# get frequency distribution for Start station using the value_counts method\n",
    "trip[\"Start station\"].value_counts()"
   ]
  },
  {
   "cell_type": "code",
   "execution_count": 57,
   "metadata": {},
   "outputs": [
    {
     "data": {
      "text/html": [
       "<div>\n",
       "<style scoped>\n",
       "    .dataframe tbody tr th:only-of-type {\n",
       "        vertical-align: middle;\n",
       "    }\n",
       "\n",
       "    .dataframe tbody tr th {\n",
       "        vertical-align: top;\n",
       "    }\n",
       "\n",
       "    .dataframe thead th {\n",
       "        text-align: right;\n",
       "    }\n",
       "</style>\n",
       "<table border=\"1\" class=\"dataframe\">\n",
       "  <thead>\n",
       "    <tr style=\"text-align: right;\">\n",
       "      <th></th>\n",
       "      <th>Duration</th>\n",
       "      <th>Start station number</th>\n",
       "      <th>End station number</th>\n",
       "    </tr>\n",
       "  </thead>\n",
       "  <tbody>\n",
       "    <tr>\n",
       "      <th>count</th>\n",
       "      <td>6.465080e+05</td>\n",
       "      <td>646508.000000</td>\n",
       "      <td>646508.000000</td>\n",
       "    </tr>\n",
       "    <tr>\n",
       "      <th>mean</th>\n",
       "      <td>1.010939e+06</td>\n",
       "      <td>31317.412205</td>\n",
       "      <td>31320.159981</td>\n",
       "    </tr>\n",
       "    <tr>\n",
       "      <th>std</th>\n",
       "      <td>2.087019e+06</td>\n",
       "      <td>218.034575</td>\n",
       "      <td>216.394488</td>\n",
       "    </tr>\n",
       "    <tr>\n",
       "      <th>min</th>\n",
       "      <td>6.000400e+04</td>\n",
       "      <td>31000.000000</td>\n",
       "      <td>31000.000000</td>\n",
       "    </tr>\n",
       "    <tr>\n",
       "      <th>25%</th>\n",
       "      <td>3.732280e+05</td>\n",
       "      <td>31202.000000</td>\n",
       "      <td>31207.000000</td>\n",
       "    </tr>\n",
       "    <tr>\n",
       "      <th>50%</th>\n",
       "      <td>6.263670e+05</td>\n",
       "      <td>31251.000000</td>\n",
       "      <td>31250.000000</td>\n",
       "    </tr>\n",
       "    <tr>\n",
       "      <th>75%</th>\n",
       "      <td>1.064398e+06</td>\n",
       "      <td>31505.000000</td>\n",
       "      <td>31505.000000</td>\n",
       "    </tr>\n",
       "    <tr>\n",
       "      <th>max</th>\n",
       "      <td>8.606654e+07</td>\n",
       "      <td>32223.000000</td>\n",
       "      <td>32223.000000</td>\n",
       "    </tr>\n",
       "  </tbody>\n",
       "</table>\n",
       "</div>"
      ],
      "text/plain": [
       "           Duration  Start station number  End station number\n",
       "count  6.465080e+05         646508.000000       646508.000000\n",
       "mean   1.010939e+06          31317.412205        31320.159981\n",
       "std    2.087019e+06            218.034575          216.394488\n",
       "min    6.000400e+04          31000.000000        31000.000000\n",
       "25%    3.732280e+05          31202.000000        31207.000000\n",
       "50%    6.263670e+05          31251.000000        31250.000000\n",
       "75%    1.064398e+06          31505.000000        31505.000000\n",
       "max    8.606654e+07          32223.000000        32223.000000"
      ]
     },
     "execution_count": 57,
     "metadata": {},
     "output_type": "execute_result"
    }
   ],
   "source": [
    "# get descriptive statistics for the trip data set\n",
    "trip.describe()"
   ]
  },
  {
   "cell_type": "code",
   "execution_count": 61,
   "metadata": {},
   "outputs": [
    {
     "data": {
      "text/plain": [
       "0    Columbus Circle / Union Station\n",
       "dtype: object"
      ]
     },
     "execution_count": 61,
     "metadata": {},
     "output_type": "execute_result"
    }
   ],
   "source": [
    "# get mode of end station using the mode method\n",
    "trip[\"End station\"].mode()"
   ]
  },
  {
   "cell_type": "markdown",
   "metadata": {},
   "source": [
    "Questions to think about\n",
    "- Are there any missing values for precipitation? For start station? How do you know? \n",
    "- Does the mean of Start station number make any sense?\n"
   ]
  },
  {
   "cell_type": "markdown",
   "metadata": {},
   "source": [
    "# Part D: Visualizing Data"
   ]
  },
  {
   "cell_type": "code",
   "execution_count": 63,
   "metadata": {},
   "outputs": [],
   "source": [
    "# import module for plotting & use jupyter magic to display pictures in cells\n",
    "import matplotlib.pyplot as plt\n",
    "%matplotlib inline"
   ]
  },
  {
   "cell_type": "code",
   "execution_count": 62,
   "metadata": {},
   "outputs": [],
   "source": [
    "# read in the combined weather and trip data \n",
    "# I already combined the data for you (this is a third data set one ELMS WeatherTrips.csv)\n",
    "combined = pd.read_csv(\"WeatherTrips.csv\")"
   ]
  },
  {
   "cell_type": "markdown",
   "metadata": {},
   "source": [
    "## Create histograms for each numeric variable"
   ]
  },
  {
   "cell_type": "code",
   "execution_count": 64,
   "metadata": {},
   "outputs": [
    {
     "data": {
      "text/plain": [
       "<matplotlib.axes._subplots.AxesSubplot at 0x636d66550>"
      ]
     },
     "execution_count": 64,
     "metadata": {},
     "output_type": "execute_result"
    },
    {
     "data": {
      "image/png": "[encoded data removed]",
      "text/plain": [
       "<Figure size 432x288 with 1 Axes>"
      ]
     },
     "metadata": {
      "needs_background": "light"
     },
     "output_type": "display_data"
    }
   ],
   "source": [
    "# histogram of number of trips\n",
    "combined[\"NumTrips\"].hist()"
   ]
  },
  {
   "cell_type": "code",
   "execution_count": 65,
   "metadata": {},
   "outputs": [
    {
     "data": {
      "text/plain": [
       "<matplotlib.axes._subplots.AxesSubplot at 0x636f2b9b0>"
      ]
     },
     "execution_count": 65,
     "metadata": {},
     "output_type": "execute_result"
    },
    {
     "data": {
      "image/png": "[encoded data removed]",
      "text/plain": [
       "<Figure size 432x288 with 1 Axes>"
      ]
     },
     "metadata": {
      "needs_background": "light"
     },
     "output_type": "display_data"
    }
   ],
   "source": [
    "# histogram of precipitation\n",
    "combined[\"PRCP\"].hist()"
   ]
  },
  {
   "cell_type": "code",
   "execution_count": 66,
   "metadata": {},
   "outputs": [
    {
     "data": {
      "text/plain": [
       "<matplotlib.axes._subplots.AxesSubplot at 0x635c0e0b8>"
      ]
     },
     "execution_count": 66,
     "metadata": {},
     "output_type": "execute_result"
    },
    {
     "data": {
      "image/png": "[encoded data removed]",
      "text/plain": [
       "<Figure size 432x288 with 1 Axes>"
      ]
     },
     "metadata": {
      "needs_background": "light"
     },
     "output_type": "display_data"
    }
   ],
   "source": [
    "# histogram of average temperature\n",
    "combined[\"TAVG\"].hist()"
   ]
  },
  {
   "cell_type": "code",
   "execution_count": 67,
   "metadata": {},
   "outputs": [
    {
     "data": {
      "text/plain": [
       "<matplotlib.axes._subplots.AxesSubplot at 0x636f3a668>"
      ]
     },
     "execution_count": 67,
     "metadata": {},
     "output_type": "execute_result"
    },
    {
     "data": {
      "image/png": "[encoded data removed]",
      "text/plain": [
       "<Figure size 432x288 with 1 Axes>"
      ]
     },
     "metadata": {
      "needs_background": "light"
     },
     "output_type": "display_data"
    }
   ],
   "source": [
    "# histogram of wind speed\n",
    "combined[\"AWND\"].hist()"
   ]
  },
  {
   "cell_type": "markdown",
   "metadata": {},
   "source": [
    "## Create barcharts display each numeric variable across dates"
   ]
  },
  {
   "cell_type": "code",
   "execution_count": 68,
   "metadata": {},
   "outputs": [
    {
     "data": {
      "text/plain": [
       "<BarContainer object of 90 artists>"
      ]
     },
     "execution_count": 68,
     "metadata": {},
     "output_type": "execute_result"
    },
    {
     "data": {
      "image/png": "[encoded data removed]",
      "text/plain": [
       "<Figure size 432x288 with 1 Axes>"
      ]
     },
     "metadata": {
      "needs_background": "light"
     },
     "output_type": "display_data"
    }
   ],
   "source": [
    "# barchart of date vs number of trips\n",
    "plt.bar(combined[\"DATE\"],combined[\"NumTrips\"])"
   ]
  },
  {
   "cell_type": "code",
   "execution_count": 69,
   "metadata": {},
   "outputs": [
    {
     "data": {
      "text/plain": [
       "<BarContainer object of 90 artists>"
      ]
     },
     "execution_count": 69,
     "metadata": {},
     "output_type": "execute_result"
    },
    {
     "data": {
      "image/png": "[encoded data removed]",
      "text/plain": [
       "<Figure size 432x288 with 1 Axes>"
      ]
     },
     "metadata": {
      "needs_background": "light"
     },
     "output_type": "display_data"
    }
   ],
   "source": [
    "# barchart of date vs precipitation\n",
    "plt.bar(combined[\"DATE\"],combined[\"PRCP\"])"
   ]
  },
  {
   "cell_type": "code",
   "execution_count": 70,
   "metadata": {},
   "outputs": [
    {
     "data": {
      "text/plain": [
       "<BarContainer object of 90 artists>"
      ]
     },
     "execution_count": 70,
     "metadata": {},
     "output_type": "execute_result"
    },
    {
     "data": {
      "image/png": "[encoded data removed]",
      "text/plain": [
       "<Figure size 432x288 with 1 Axes>"
      ]
     },
     "metadata": {
      "needs_background": "light"
     },
     "output_type": "display_data"
    }
   ],
   "source": [
    "# barchart of date vs average temparature\n",
    "plt.bar(combined[\"DATE\"],combined[\"TAVG\"])"
   ]
  },
  {
   "cell_type": "code",
   "execution_count": 71,
   "metadata": {},
   "outputs": [
    {
     "data": {
      "text/plain": [
       "<BarContainer object of 90 artists>"
      ]
     },
     "execution_count": 71,
     "metadata": {},
     "output_type": "execute_result"
    },
    {
     "data": {
      "image/png": "[encoded data removed]",
      "text/plain": [
       "<Figure size 432x288 with 1 Axes>"
      ]
     },
     "metadata": {
      "needs_background": "light"
     },
     "output_type": "display_data"
    }
   ],
   "source": [
    "# barchart of date vs wind speed\n",
    "plt.bar(combined[\"DATE\"],combined[\"AWND\"])"
   ]
  },
  {
   "cell_type": "markdown",
   "metadata": {},
   "source": [
    "## Create scatterplots of each numeric variable with number of trips"
   ]
  },
  {
   "cell_type": "code",
   "execution_count": 72,
   "metadata": {},
   "outputs": [
    {
     "data": {
      "text/plain": [
       "<matplotlib.collections.PathCollection at 0x637d8d5c0>"
      ]
     },
     "execution_count": 72,
     "metadata": {},
     "output_type": "execute_result"
    },
    {
     "data": {
      "image/png": "[encoded data removed]",
      "text/plain": [
       "<Figure size 432x288 with 1 Axes>"
      ]
     },
     "metadata": {
      "needs_background": "light"
     },
     "output_type": "display_data"
    }
   ],
   "source": [
    "# scatterplot of precipitation vs number of trips\n",
    "plt.scatter(combined[\"PRCP\"],combined[\"NumTrips\"])"
   ]
  },
  {
   "cell_type": "code",
   "execution_count": 73,
   "metadata": {},
   "outputs": [
    {
     "data": {
      "text/plain": [
       "<matplotlib.collections.PathCollection at 0x637e426d8>"
      ]
     },
     "execution_count": 73,
     "metadata": {},
     "output_type": "execute_result"
    },
    {
     "data": {
      "image/png": "[encoded data removed]",
      "text/plain": [
       "<Figure size 432x288 with 1 Axes>"
      ]
     },
     "metadata": {
      "needs_background": "light"
     },
     "output_type": "display_data"
    }
   ],
   "source": [
    "# scatterplot of average temperature vs number of trips\n",
    "plt.scatter(combined[\"TAVG\"],combined[\"NumTrips\"])"
   ]
  },
  {
   "cell_type": "code",
   "execution_count": 74,
   "metadata": {},
   "outputs": [
    {
     "data": {
      "text/plain": [
       "<matplotlib.collections.PathCollection at 0x637ea0128>"
      ]
     },
     "execution_count": 74,
     "metadata": {},
     "output_type": "execute_result"
    },
    {
     "data": {
      "image/png": "[encoded data removed]",
      "text/plain": [
       "<Figure size 432x288 with 1 Axes>"
      ]
     },
     "metadata": {
      "needs_background": "light"
     },
     "output_type": "display_data"
    }
   ],
   "source": [
    "# scatterplot of average wind speed vs number of trips\n",
    "plt.scatter(combined[\"AWND\"],combined[\"NumTrips\"])"
   ]
  }
 ],
 "metadata": {
  "kernelspec": {
   "display_name": "Python 3",
   "language": "python",
   "name": "python3"
  },
  "language_info": {
   "codemirror_mode": {
    "name": "ipython",
    "version": 3
   },
   "file_extension": ".py",
   "mimetype": "text/x-python",
   "name": "python",
   "nbconvert_exporter": "python",
   "pygments_lexer": "ipython3",
   "version": "3.7.0"
  }
 },
 "nbformat": 4,
 "nbformat_minor": 2
}
